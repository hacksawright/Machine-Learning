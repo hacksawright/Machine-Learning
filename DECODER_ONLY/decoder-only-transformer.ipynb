{
 "cells": [
  {
   "cell_type": "code",
   "execution_count": 1,
   "id": "2f9a163f",
   "metadata": {
    "_cell_guid": "b1076dfc-b9ad-4769-8c92-a6c4dae69d19",
    "_uuid": "8f2839f25d086af736a60e9eeb907d3b93b6e0e5",
    "execution": {
     "iopub.execute_input": "2025-10-17T08:40:37.107212Z",
     "iopub.status.busy": "2025-10-17T08:40:37.106976Z",
     "iopub.status.idle": "2025-10-17T08:40:44.162193Z",
     "shell.execute_reply": "2025-10-17T08:40:44.161561Z"
    },
    "papermill": {
     "duration": 7.061587,
     "end_time": "2025-10-17T08:40:44.163602",
     "exception": false,
     "start_time": "2025-10-17T08:40:37.102015",
     "status": "completed"
    },
    "tags": []
   },
   "outputs": [],
   "source": [
    "from datasets import load_dataset\n",
    "import torch\n",
    "import torch.nn as nn\n",
    "import torch.optim as optim\n",
    "import torch.utils.data as data\n",
    "import datasets\n",
    "import sentencepiece as spm\n",
    "import tqdm\n",
    "import os\n",
    "import re\n",
    "import math"
   ]
  },
  {
   "cell_type": "code",
   "execution_count": 2,
   "id": "fbd4fb52",
   "metadata": {
    "execution": {
     "iopub.execute_input": "2025-10-17T08:40:44.171823Z",
     "iopub.status.busy": "2025-10-17T08:40:44.171473Z",
     "iopub.status.idle": "2025-10-17T08:40:45.443302Z",
     "shell.execute_reply": "2025-10-17T08:40:45.442765Z"
    },
    "papermill": {
     "duration": 1.276777,
     "end_time": "2025-10-17T08:40:45.444385",
     "exception": false,
     "start_time": "2025-10-17T08:40:44.167608",
     "status": "completed"
    },
    "tags": []
   },
   "outputs": [
    {
     "data": {
      "application/vnd.jupyter.widget-view+json": {
       "model_id": "de35d3e7c6bd4b8dbaefe112ae88897a",
       "version_major": 2,
       "version_minor": 0
      },
      "text/plain": [
       "Downloading data:   0%|          | 0.00/1.12M [00:00<?, ?B/s]"
      ]
     },
     "metadata": {},
     "output_type": "display_data"
    },
    {
     "data": {
      "application/vnd.jupyter.widget-view+json": {
       "model_id": "80f38da5686d4cff936f4746258afd6e",
       "version_major": 2,
       "version_minor": 0
      },
      "text/plain": [
       "Generating train split: 0 examples [00:00, ? examples/s]"
      ]
     },
     "metadata": {},
     "output_type": "display_data"
    }
   ],
   "source": [
    "#Tiny Shakespeare là tập dữ liệu gồm khoảng 1 triệu ký tự (≈ 40 tác phẩm của Shakespeare), trích từ kịch, bi kịch, hài kịch của ông — \n",
    "#ví dụ như Hamlet, Macbeth, Julius Caesar, The Tempest, v.v.\n",
    "\n",
    "dataset = load_dataset(\n",
    "    \"text\",\n",
    "    data_files=\"https://raw.githubusercontent.com/karpathy/char-rnn/master/data/tinyshakespeare/input.txt\",\n",
    ")"
   ]
  },
  {
   "cell_type": "code",
   "execution_count": 3,
   "id": "4a73c52f",
   "metadata": {
    "execution": {
     "iopub.execute_input": "2025-10-17T08:40:45.452818Z",
     "iopub.status.busy": "2025-10-17T08:40:45.452165Z",
     "iopub.status.idle": "2025-10-17T08:40:46.744224Z",
     "shell.execute_reply": "2025-10-17T08:40:46.743285Z"
    },
    "papermill": {
     "duration": 1.297172,
     "end_time": "2025-10-17T08:40:46.745527",
     "exception": false,
     "start_time": "2025-10-17T08:40:45.448355",
     "status": "completed"
    },
    "tags": []
   },
   "outputs": [
    {
     "name": "stdout",
     "output_type": "stream",
     "text": [
      "1115393\n",
      "First Citizen:\n",
      "Before we proceed any further, hear me speak.\n",
      "\n",
      "All:\n",
      "Speak, speak.\n",
      "\n",
      "First Citizen:\n",
      "You are all resolved rather to die than to famish?\n",
      "\n",
      "All:\n",
      "Resolved. resolved.\n",
      "\n",
      "First Citizen:\n",
      "First, you know Caius Marcius is chief enemy to the people.\n",
      "\n",
      "All:\n",
      "We know't, we know't.\n",
      "\n",
      "First Citizen:\n",
      "Let us kill him, and we'll have corn at our own price.\n",
      "Is't a verdict?\n",
      "\n",
      "All:\n",
      "No more talking on't; let it be done: away, away!\n",
      "\n",
      "Second Citizen:\n",
      "One word, good citizens.\n",
      "\n",
      "First Citizen:\n",
      "We are accounted poor\n"
     ]
    }
   ],
   "source": [
    "full_text = \"\\n\".join(dataset[\"train\"][i][\"text\"] for i in range(len(dataset[\"train\"])))\n",
    "\n",
    "print(len(full_text))           # khoảng 1,118,394 ký tự\n",
    "print(full_text[:500])"
   ]
  },
  {
   "cell_type": "code",
   "execution_count": 4,
   "id": "514652ee",
   "metadata": {
    "execution": {
     "iopub.execute_input": "2025-10-17T08:40:46.753663Z",
     "iopub.status.busy": "2025-10-17T08:40:46.753430Z",
     "iopub.status.idle": "2025-10-17T08:40:48.006175Z",
     "shell.execute_reply": "2025-10-17T08:40:48.005468Z"
    },
    "papermill": {
     "duration": 1.258111,
     "end_time": "2025-10-17T08:40:48.007605",
     "exception": false,
     "start_time": "2025-10-17T08:40:46.749494",
     "status": "completed"
    },
    "tags": []
   },
   "outputs": [],
   "source": [
    "text = \"\\n\".join(dataset[\"train\"][i][\"text\"] for i in range(len(dataset[\"train\"])))\n",
    "with open(\"tiny_shakespeare.txt\", \"w\", encoding=\"utf-8\") as f:\n",
    "    f.write(text)"
   ]
  },
  {
   "cell_type": "code",
   "execution_count": 5,
   "id": "358a9be6",
   "metadata": {
    "execution": {
     "iopub.execute_input": "2025-10-17T08:40:48.016672Z",
     "iopub.status.busy": "2025-10-17T08:40:48.016381Z",
     "iopub.status.idle": "2025-10-17T08:40:48.812836Z",
     "shell.execute_reply": "2025-10-17T08:40:48.810950Z"
    },
    "papermill": {
     "duration": 0.804688,
     "end_time": "2025-10-17T08:40:48.816404",
     "exception": false,
     "start_time": "2025-10-17T08:40:48.011716",
     "status": "completed"
    },
    "tags": []
   },
   "outputs": [
    {
     "name": "stderr",
     "output_type": "stream",
     "text": [
      "sentencepiece_trainer.cc(78) LOG(INFO) Starts training with : \n",
      "trainer_spec {\n",
      "  input: tiny_shakespeare.txt\n",
      "  input_format: \n",
      "  model_prefix: tinyshakespeare\n",
      "  model_type: BPE\n",
      "  vocab_size: 8000\n",
      "  self_test_sample_size: 0\n",
      "  character_coverage: 1\n",
      "  input_sentence_size: 0\n",
      "  shuffle_input_sentence: 1\n",
      "  seed_sentencepiece_size: 1000000\n",
      "  shrinking_factor: 0.75\n",
      "  max_sentence_length: 4192\n",
      "  num_threads: 16\n",
      "  num_sub_iterations: 2\n",
      "  max_sentencepiece_length: 16\n",
      "  split_by_unicode_script: 1\n",
      "  split_by_number: 1\n",
      "  split_by_whitespace: 1\n",
      "  split_digits: 0\n",
      "  pretokenization_delimiter: \n",
      "  treat_whitespace_as_suffix: 0\n",
      "  allow_whitespace_only_pieces: 0\n",
      "  required_chars: \n",
      "  byte_fallback: 0\n",
      "  vocabulary_output_piece_score: 1\n",
      "  train_extremely_large_corpus: 0\n",
      "  seed_sentencepieces_file: \n",
      "  hard_vocab_limit: 1\n",
      "  use_all_vocab: 0\n",
      "  unk_id: 0\n",
      "  bos_id: 1\n",
      "  eos_id: 2\n",
      "  pad_id: -1\n",
      "  unk_piece: <unk>\n",
      "  bos_piece: <s>\n",
      "  eos_piece: </s>\n",
      "  pad_piece: <pad>\n",
      "  unk_surface:  ⁇ \n",
      "  enable_differential_privacy: 0\n",
      "  differential_privacy_noise_level: 0\n",
      "  differential_privacy_clipping_threshold: 0\n",
      "}\n",
      "normalizer_spec {\n",
      "  name: nmt_nfkc\n",
      "  add_dummy_prefix: 1\n",
      "  remove_extra_whitespaces: 1\n",
      "  escape_whitespaces: 1\n",
      "  normalization_rule_tsv: \n",
      "}\n",
      "denormalizer_spec {}\n",
      "trainer_interface.cc(353) LOG(INFO) SentenceIterator is not specified. Using MultiFileSentenceIterator.\n",
      "trainer_interface.cc(185) LOG(INFO) Loading corpus: tiny_shakespeare.txt\n",
      "trainer_interface.cc(409) LOG(INFO) Loaded all 32777 sentences\n",
      "trainer_interface.cc(425) LOG(INFO) Adding meta_piece: <unk>\n",
      "trainer_interface.cc(425) LOG(INFO) Adding meta_piece: <s>\n",
      "trainer_interface.cc(425) LOG(INFO) Adding meta_piece: </s>\n",
      "trainer_interface.cc(430) LOG(INFO) Normalizing sentences...\n",
      "trainer_interface.cc(539) LOG(INFO) all chars count=1108153\n",
      "trainer_interface.cc(560) LOG(INFO) Alphabet size=64\n",
      "trainer_interface.cc(561) LOG(INFO) Final character coverage=1\n",
      "trainer_interface.cc(592) LOG(INFO) Done! preprocessed 32777 sentences.\n",
      "trainer_interface.cc(598) LOG(INFO) Tokenizing input sentences with whitespace: 32777\n",
      "trainer_interface.cc(609) LOG(INFO) Done! 25670\n",
      "bpe_model_trainer.cc(159) LOG(INFO) Updating active symbols. max_freq=24133 min_freq=1\n",
      "bpe_model_trainer.cc(268) LOG(INFO) Added: freq=6114 size=20 all=1649 active=1585 piece=it\n",
      "bpe_model_trainer.cc(268) LOG(INFO) Added: freq=3906 size=40 all=2220 active=2156 piece=st\n",
      "bpe_model_trainer.cc(268) LOG(INFO) Added: freq=2392 size=60 all=2991 active=2927 piece=ld\n",
      "bpe_model_trainer.cc(268) LOG(INFO) Added: freq=1864 size=80 all=3604 active=3540 piece=ke\n",
      "bpe_model_trainer.cc(268) LOG(INFO) Added: freq=1429 size=100 all=4152 active=4088 piece=▁his\n",
      "bpe_model_trainer.cc(159) LOG(INFO) Updating active symbols. max_freq=1396 min_freq=99\n",
      "bpe_model_trainer.cc(268) LOG(INFO) Added: freq=1253 size=120 all=4718 active=1565 piece=al\n",
      "bpe_model_trainer.cc(268) LOG(INFO) Added: freq=990 size=140 all=5343 active=2190 piece=ess\n",
      "bpe_model_trainer.cc(268) LOG(INFO) Added: freq=828 size=160 all=5858 active=2705 piece=▁To\n",
      "bpe_model_trainer.cc(268) LOG(INFO) Added: freq=717 size=180 all=6278 active=3125 piece=▁are\n",
      "bpe_model_trainer.cc(268) LOG(INFO) Added: freq=621 size=200 all=6799 active=3646 piece=▁up\n",
      "bpe_model_trainer.cc(159) LOG(INFO) Updating active symbols. max_freq=614 min_freq=91\n",
      "bpe_model_trainer.cc(268) LOG(INFO) Added: freq=567 size=220 all=7173 active=1366 piece=▁con\n",
      "bpe_model_trainer.cc(268) LOG(INFO) Added: freq=510 size=240 all=7591 active=1784 piece=▁was\n",
      "bpe_model_trainer.cc(268) LOG(INFO) Added: freq=478 size=260 all=7897 active=2090 piece=ind\n",
      "bpe_model_trainer.cc(268) LOG(INFO) Added: freq=451 size=280 all=8260 active=2453 piece=▁br\n",
      "bpe_model_trainer.cc(268) LOG(INFO) Added: freq=395 size=300 all=8641 active=2834 piece=fore\n",
      "bpe_model_trainer.cc(159) LOG(INFO) Updating active symbols. max_freq=394 min_freq=80\n",
      "bpe_model_trainer.cc(268) LOG(INFO) Added: freq=359 size=320 all=8934 active=1288 piece=ak\n",
      "bpe_model_trainer.cc(268) LOG(INFO) Added: freq=334 size=340 all=9213 active=1567 piece=▁had\n",
      "bpe_model_trainer.cc(268) LOG(INFO) Added: freq=301 size=360 all=9513 active=1867 piece=▁speak\n",
      "bpe_model_trainer.cc(268) LOG(INFO) Added: freq=286 size=380 all=9783 active=2137 piece=▁heart\n",
      "bpe_model_trainer.cc(268) LOG(INFO) Added: freq=270 size=400 all=10004 active=2358 piece=▁In\n",
      "bpe_model_trainer.cc(159) LOG(INFO) Updating active symbols. max_freq=270 min_freq=68\n",
      "bpe_model_trainer.cc(268) LOG(INFO) Added: freq=255 size=420 all=10219 active=1204 piece=oy\n",
      "bpe_model_trainer.cc(268) LOG(INFO) Added: freq=237 size=440 all=10411 active=1396 piece=▁ro\n",
      "bpe_model_trainer.cc(268) LOG(INFO) Added: freq=231 size=460 all=10520 active=1505 piece=▁This\n",
      "bpe_model_trainer.cc(268) LOG(INFO) Added: freq=222 size=480 all=10801 active=1786 piece=urse\n",
      "bpe_model_trainer.cc(268) LOG(INFO) Added: freq=211 size=500 all=10907 active=1892 piece=UM\n",
      "bpe_model_trainer.cc(159) LOG(INFO) Updating active symbols. max_freq=210 min_freq=61\n",
      "bpe_model_trainer.cc(268) LOG(INFO) Added: freq=197 size=520 all=11061 active=1147 piece=ber\n",
      "bpe_model_trainer.cc(268) LOG(INFO) Added: freq=190 size=540 all=11323 active=1409 piece=uke\n",
      "bpe_model_trainer.cc(268) LOG(INFO) Added: freq=181 size=560 all=11527 active=1613 piece=▁true\n",
      "bpe_model_trainer.cc(268) LOG(INFO) Added: freq=175 size=580 all=11649 active=1735 piece=▁doth\n",
      "bpe_model_trainer.cc(268) LOG(INFO) Added: freq=165 size=600 all=11778 active=1864 piece=▁Ed\n",
      "bpe_model_trainer.cc(159) LOG(INFO) Updating active symbols. max_freq=165 min_freq=55\n",
      "bpe_model_trainer.cc(268) LOG(INFO) Added: freq=162 size=620 all=11914 active=1134 piece=▁MENEN\n",
      "bpe_model_trainer.cc(268) LOG(INFO) Added: freq=158 size=640 all=12018 active=1238 piece=▁PETRUCHIO\n",
      "bpe_model_trainer.cc(268) LOG(INFO) Added: freq=150 size=660 all=12271 active=1491 piece=ilt\n",
      "bpe_model_trainer.cc(268) LOG(INFO) Added: freq=145 size=680 all=12382 active=1602 piece=less\n",
      "bpe_model_trainer.cc(268) LOG(INFO) Added: freq=139 size=700 all=12593 active=1813 piece=▁friends\n",
      "bpe_model_trainer.cc(159) LOG(INFO) Updating active symbols. max_freq=138 min_freq=50\n",
      "bpe_model_trainer.cc(268) LOG(INFO) Added: freq=133 size=720 all=12708 active=1115 piece=▁rest\n",
      "bpe_model_trainer.cc(268) LOG(INFO) Added: freq=129 size=740 all=12834 active=1241 piece=▁ISAB\n",
      "bpe_model_trainer.cc(268) LOG(INFO) Added: freq=125 size=760 all=13007 active=1414 piece=▁better\n",
      "bpe_model_trainer.cc(268) LOG(INFO) Added: freq=120 size=780 all=13114 active=1521 piece=ied\n",
      "bpe_model_trainer.cc(268) LOG(INFO) Added: freq=117 size=800 all=13314 active=1721 piece=▁acc\n",
      "bpe_model_trainer.cc(159) LOG(INFO) Updating active symbols. max_freq=117 min_freq=45\n",
      "bpe_model_trainer.cc(268) LOG(INFO) Added: freq=114 size=820 all=13433 active=1107 piece=▁On\n",
      "bpe_model_trainer.cc(268) LOG(INFO) Added: freq=110 size=840 all=13593 active=1267 piece=ale\n",
      "bpe_model_trainer.cc(268) LOG(INFO) Added: freq=108 size=860 all=13777 active=1451 piece=▁unto\n",
      "bpe_model_trainer.cc(268) LOG(INFO) Added: freq=106 size=880 all=13893 active=1567 piece=▁words\n",
      "bpe_model_trainer.cc(268) LOG(INFO) Added: freq=104 size=900 all=13941 active=1615 piece=▁lady\n",
      "bpe_model_trainer.cc(159) LOG(INFO) Updating active symbols. max_freq=104 min_freq=41\n",
      "bpe_model_trainer.cc(268) LOG(INFO) Added: freq=102 size=920 all=14089 active=1147 piece=▁husband\n",
      "bpe_model_trainer.cc(268) LOG(INFO) Added: freq=98 size=940 all=14209 active=1267 piece=rer\n",
      "bpe_model_trainer.cc(268) LOG(INFO) Added: freq=95 size=960 all=14325 active=1383 piece=UL\n",
      "bpe_model_trainer.cc(268) LOG(INFO) Added: freq=93 size=980 all=14388 active=1446 piece=▁bring\n",
      "bpe_model_trainer.cc(268) LOG(INFO) Added: freq=90 size=1000 all=14476 active=1534 piece=BROKE\n",
      "bpe_model_trainer.cc(159) LOG(INFO) Updating active symbols. max_freq=90 min_freq=37\n",
      "bpe_model_trainer.cc(268) LOG(INFO) Added: freq=88 size=1020 all=14560 active=1084 piece=cle\n",
      "bpe_model_trainer.cc(268) LOG(INFO) Added: freq=86 size=1040 all=14665 active=1189 piece=GAR\n",
      "bpe_model_trainer.cc(268) LOG(INFO) Added: freq=84 size=1060 all=14743 active=1267 piece=▁sorrow\n",
      "bpe_model_trainer.cc(268) LOG(INFO) Added: freq=81 size=1080 all=14794 active=1318 piece=irt\n",
      "bpe_model_trainer.cc(268) LOG(INFO) Added: freq=80 size=1100 all=14858 active=1382 piece=urde\n",
      "bpe_model_trainer.cc(159) LOG(INFO) Updating active symbols. max_freq=80 min_freq=34\n",
      "bpe_model_trainer.cc(268) LOG(INFO) Added: freq=78 size=1120 all=14914 active=1053 piece=▁gracious\n",
      "bpe_model_trainer.cc(268) LOG(INFO) Added: freq=75 size=1140 all=15127 active=1266 piece=▁bed\n",
      "bpe_model_trainer.cc(268) LOG(INFO) Added: freq=73 size=1160 all=15211 active=1350 piece=▁bu\n",
      "bpe_model_trainer.cc(268) LOG(INFO) Added: freq=72 size=1180 all=15285 active=1424 piece=▁another\n",
      "bpe_model_trainer.cc(268) LOG(INFO) Added: freq=70 size=1200 all=15358 active=1497 piece=▁bo\n",
      "bpe_model_trainer.cc(159) LOG(INFO) Updating active symbols. max_freq=70 min_freq=32\n",
      "bpe_model_trainer.cc(268) LOG(INFO) Added: freq=68 size=1220 all=15389 active=1020 piece=STA\n",
      "bpe_model_trainer.cc(268) LOG(INFO) Added: freq=67 size=1240 all=15474 active=1105 piece=OLYC\n",
      "bpe_model_trainer.cc(268) LOG(INFO) Added: freq=66 size=1260 all=15552 active=1183 piece=▁More\n",
      "bpe_model_trainer.cc(268) LOG(INFO) Added: freq=65 size=1280 all=15622 active=1253 piece=▁breath\n",
      "bpe_model_trainer.cc(268) LOG(INFO) Added: freq=63 size=1300 all=15671 active=1302 piece=▁sen\n",
      "bpe_model_trainer.cc(159) LOG(INFO) Updating active symbols. max_freq=63 min_freq=30\n",
      "bpe_model_trainer.cc(268) LOG(INFO) Added: freq=62 size=1320 all=15738 active=1062 piece=▁bea\n",
      "bpe_model_trainer.cc(268) LOG(INFO) Added: freq=61 size=1340 all=15768 active=1092 piece=▁nature\n",
      "bpe_model_trainer.cc(268) LOG(INFO) Added: freq=60 size=1360 all=15819 active=1143 piece=▁things\n",
      "bpe_model_trainer.cc(268) LOG(INFO) Added: freq=59 size=1380 all=15896 active=1220 piece=▁subject\n",
      "bpe_model_trainer.cc(268) LOG(INFO) Added: freq=57 size=1400 all=15942 active=1266 piece=anc\n",
      "bpe_model_trainer.cc(159) LOG(INFO) Updating active symbols. max_freq=57 min_freq=28\n",
      "bpe_model_trainer.cc(268) LOG(INFO) Added: freq=57 size=1420 all=15995 active=1042 piece=▁yourself\n",
      "bpe_model_trainer.cc(268) LOG(INFO) Added: freq=55 size=1440 all=16050 active=1097 piece=by\n",
      "bpe_model_trainer.cc(268) LOG(INFO) Added: freq=54 size=1460 all=16109 active=1156 piece=form\n",
      "bpe_model_trainer.cc(268) LOG(INFO) Added: freq=53 size=1480 all=16176 active=1223 piece=like\n",
      "bpe_model_trainer.cc(268) LOG(INFO) Added: freq=52 size=1500 all=16240 active=1287 piece=▁does\n",
      "bpe_model_trainer.cc(159) LOG(INFO) Updating active symbols. max_freq=52 min_freq=26\n",
      "bpe_model_trainer.cc(268) LOG(INFO) Added: freq=51 size=1520 all=16331 active=1092 piece=▁marry\n",
      "bpe_model_trainer.cc(268) LOG(INFO) Added: freq=50 size=1540 all=16432 active=1193 piece=▁Clif\n",
      "bpe_model_trainer.cc(268) LOG(INFO) Added: freq=49 size=1560 all=16501 active=1262 piece=ceed\n",
      "bpe_model_trainer.cc(268) LOG(INFO) Added: freq=48 size=1580 all=16573 active=1334 piece=ets\n",
      "bpe_model_trainer.cc(268) LOG(INFO) Added: freq=47 size=1600 all=16627 active=1388 piece=aid\n",
      "bpe_model_trainer.cc(159) LOG(INFO) Updating active symbols. max_freq=47 min_freq=24\n",
      "bpe_model_trainer.cc(268) LOG(INFO) Added: freq=46 size=1620 all=16728 active=1091 piece=aud\n",
      "bpe_model_trainer.cc(268) LOG(INFO) Added: freq=46 size=1640 all=16814 active=1177 piece=▁France\n",
      "bpe_model_trainer.cc(268) LOG(INFO) Added: freq=45 size=1660 all=16836 active=1199 piece=▁curse\n",
      "bpe_model_trainer.cc(268) LOG(INFO) Added: freq=44 size=1680 all=16882 active=1245 piece=▁run\n",
      "bpe_model_trainer.cc(268) LOG(INFO) Added: freq=43 size=1700 all=16957 active=1320 piece=ible\n",
      "bpe_model_trainer.cc(159) LOG(INFO) Updating active symbols. max_freq=43 min_freq=23\n",
      "bpe_model_trainer.cc(268) LOG(INFO) Added: freq=43 size=1720 all=17020 active=1051 piece=▁thoughts\n",
      "bpe_model_trainer.cc(268) LOG(INFO) Added: freq=42 size=1740 all=17137 active=1168 piece=▁feel\n",
      "bpe_model_trainer.cc(268) LOG(INFO) Added: freq=41 size=1760 all=17172 active=1203 piece=oop\n",
      "bpe_model_trainer.cc(268) LOG(INFO) Added: freq=40 size=1780 all=17259 active=1290 piece=DEL\n",
      "bpe_model_trainer.cc(268) LOG(INFO) Added: freq=40 size=1800 all=17318 active=1349 piece=▁wret\n",
      "bpe_model_trainer.cc(159) LOG(INFO) Updating active symbols. max_freq=40 min_freq=21\n",
      "bpe_model_trainer.cc(268) LOG(INFO) Added: freq=39 size=1820 all=17369 active=1049 piece=ones\n",
      "bpe_model_trainer.cc(268) LOG(INFO) Added: freq=39 size=1840 all=17398 active=1078 piece=▁strike\n",
      "bpe_model_trainer.cc(268) LOG(INFO) Added: freq=38 size=1860 all=17452 active=1132 piece=ished\n",
      "bpe_model_trainer.cc(268) LOG(INFO) Added: freq=37 size=1880 all=17485 active=1165 piece=▁act\n",
      "bpe_model_trainer.cc(268) LOG(INFO) Added: freq=36 size=1900 all=17513 active=1193 piece=fid\n",
      "bpe_model_trainer.cc(159) LOG(INFO) Updating active symbols. max_freq=36 min_freq=20\n",
      "bpe_model_trainer.cc(268) LOG(INFO) Added: freq=36 size=1920 all=17597 active=1081 piece=▁next\n",
      "bpe_model_trainer.cc(268) LOG(INFO) Added: freq=35 size=1940 all=17645 active=1129 piece=els\n",
      "bpe_model_trainer.cc(268) LOG(INFO) Added: freq=35 size=1960 all=17717 active=1201 piece=▁CLIFF\n",
      "bpe_model_trainer.cc(268) LOG(INFO) Added: freq=34 size=1980 all=17761 active=1245 piece=▁ac\n",
      "bpe_model_trainer.cc(268) LOG(INFO) Added: freq=34 size=2000 all=17826 active=1310 piece=▁forb\n",
      "bpe_model_trainer.cc(159) LOG(INFO) Updating active symbols. max_freq=34 min_freq=19\n",
      "bpe_model_trainer.cc(268) LOG(INFO) Added: freq=34 size=2020 all=17830 active=1002 piece=▁further\n",
      "bpe_model_trainer.cc(268) LOG(INFO) Added: freq=33 size=2040 all=17953 active=1125 piece=▁wed\n",
      "bpe_model_trainer.cc(268) LOG(INFO) Added: freq=33 size=2060 all=17959 active=1131 piece=▁consent\n",
      "bpe_model_trainer.cc(268) LOG(INFO) Added: freq=32 size=2080 all=18025 active=1197 piece=▁foe\n",
      "bpe_model_trainer.cc(268) LOG(INFO) Added: freq=32 size=2100 all=18036 active=1208 piece=▁Richmond\n",
      "bpe_model_trainer.cc(159) LOG(INFO) Updating active symbols. max_freq=32 min_freq=18\n",
      "bpe_model_trainer.cc(268) LOG(INFO) Added: freq=31 size=2120 all=18165 active=1129 piece=▁hot\n",
      "bpe_model_trainer.cc(268) LOG(INFO) Added: freq=31 size=2140 all=18195 active=1159 piece=▁having\n",
      "bpe_model_trainer.cc(268) LOG(INFO) Added: freq=30 size=2160 all=18252 active=1216 piece=cient\n",
      "bpe_model_trainer.cc(268) LOG(INFO) Added: freq=30 size=2180 all=18268 active=1232 piece=▁voice\n",
      "bpe_model_trainer.cc(268) LOG(INFO) Added: freq=29 size=2200 all=18348 active=1312 piece=iant\n",
      "bpe_model_trainer.cc(159) LOG(INFO) Updating active symbols. max_freq=29 min_freq=17\n",
      "bpe_model_trainer.cc(268) LOG(INFO) Added: freq=29 size=2220 all=18417 active=1067 piece=ainted\n",
      "bpe_model_trainer.cc(268) LOG(INFO) Added: freq=28 size=2240 all=18433 active=1083 piece=BOW\n",
      "bpe_model_trainer.cc(268) LOG(INFO) Added: freq=28 size=2260 all=18524 active=1174 piece=otion\n",
      "bpe_model_trainer.cc(268) LOG(INFO) Added: freq=28 size=2280 all=18566 active=1216 piece=▁lament\n",
      "bpe_model_trainer.cc(268) LOG(INFO) Added: freq=27 size=2300 all=18636 active=1286 piece=▁ow\n",
      "bpe_model_trainer.cc(159) LOG(INFO) Updating active symbols. max_freq=27 min_freq=16\n",
      "bpe_model_trainer.cc(268) LOG(INFO) Added: freq=27 size=2320 all=18727 active=1085 piece=▁prin\n",
      "bpe_model_trainer.cc(268) LOG(INFO) Added: freq=26 size=2340 all=18734 active=1092 piece=ac\n",
      "bpe_model_trainer.cc(268) LOG(INFO) Added: freq=26 size=2360 all=18887 active=1245 piece=▁ben\n",
      "bpe_model_trainer.cc(268) LOG(INFO) Added: freq=26 size=2380 all=18913 active=1271 piece=▁chance\n",
      "bpe_model_trainer.cc(268) LOG(INFO) Added: freq=25 size=2400 all=18951 active=1309 piece=▁Br\n",
      "bpe_model_trainer.cc(159) LOG(INFO) Updating active symbols. max_freq=25 min_freq=15\n",
      "bpe_model_trainer.cc(268) LOG(INFO) Added: freq=25 size=2420 all=19007 active=1053 piece=▁glad\n",
      "bpe_model_trainer.cc(268) LOG(INFO) Added: freq=25 size=2440 all=19020 active=1066 piece=▁PERDITA\n",
      "bpe_model_trainer.cc(268) LOG(INFO) Added: freq=24 size=2460 all=19071 active=1117 piece=ding\n",
      "bpe_model_trainer.cc(268) LOG(INFO) Added: freq=24 size=2480 all=19140 active=1186 piece=▁mild\n",
      "bpe_model_trainer.cc(268) LOG(INFO) Added: freq=24 size=2500 all=19151 active=1197 piece=▁leisure\n",
      "bpe_model_trainer.cc(159) LOG(INFO) Updating active symbols. max_freq=24 min_freq=14\n",
      "bpe_model_trainer.cc(268) LOG(INFO) Added: freq=23 size=2520 all=19257 active=1106 piece=▁em\n",
      "bpe_model_trainer.cc(268) LOG(INFO) Added: freq=23 size=2540 all=19338 active=1187 piece=eness\n",
      "bpe_model_trainer.cc(268) LOG(INFO) Added: freq=23 size=2560 all=19365 active=1214 piece=▁sense\n",
      "bpe_model_trainer.cc(268) LOG(INFO) Added: freq=23 size=2580 all=19373 active=1222 piece=▁condemn\n",
      "bpe_model_trainer.cc(268) LOG(INFO) Added: freq=22 size=2600 all=19393 active=1242 piece=vel\n",
      "bpe_model_trainer.cc(159) LOG(INFO) Updating active symbols. max_freq=22 min_freq=14\n",
      "bpe_model_trainer.cc(268) LOG(INFO) Added: freq=22 size=2620 all=19463 active=1063 piece=aring\n",
      "bpe_model_trainer.cc(268) LOG(INFO) Added: freq=22 size=2640 all=19476 active=1076 piece=▁bones\n",
      "bpe_model_trainer.cc(268) LOG(INFO) Added: freq=22 size=2660 all=19475 active=1075 piece=▁proclaim\n",
      "bpe_model_trainer.cc(268) LOG(INFO) Added: freq=21 size=2680 all=19573 active=1173 piece=▁Me\n",
      "bpe_model_trainer.cc(268) LOG(INFO) Added: freq=21 size=2700 all=19639 active=1239 piece=▁sus\n",
      "bpe_model_trainer.cc(159) LOG(INFO) Updating active symbols. max_freq=21 min_freq=13\n",
      "bpe_model_trainer.cc(268) LOG(INFO) Added: freq=21 size=2720 all=19669 active=1029 piece=atesby\n",
      "bpe_model_trainer.cc(268) LOG(INFO) Added: freq=21 size=2740 all=19671 active=1031 piece=▁double\n",
      "bpe_model_trainer.cc(268) LOG(INFO) Added: freq=21 size=2760 all=19674 active=1034 piece=▁encounter\n",
      "bpe_model_trainer.cc(268) LOG(INFO) Added: freq=20 size=2780 all=19733 active=1093 piece=▁Dis\n",
      "bpe_model_trainer.cc(268) LOG(INFO) Added: freq=20 size=2800 all=19796 active=1156 piece=▁abro\n",
      "bpe_model_trainer.cc(159) LOG(INFO) Updating active symbols. max_freq=20 min_freq=13\n",
      "bpe_model_trainer.cc(268) LOG(INFO) Added: freq=20 size=2820 all=19843 active=1046 piece=▁guess\n",
      "bpe_model_trainer.cc(268) LOG(INFO) Added: freq=20 size=2840 all=19848 active=1051 piece=▁manner\n",
      "bpe_model_trainer.cc(268) LOG(INFO) Added: freq=19 size=2860 all=19867 active=1070 piece=den\n",
      "bpe_model_trainer.cc(268) LOG(INFO) Added: freq=19 size=2880 all=19941 active=1144 piece=▁pal\n",
      "bpe_model_trainer.cc(268) LOG(INFO) Added: freq=19 size=2900 all=19972 active=1175 piece=▁going\n",
      "bpe_model_trainer.cc(159) LOG(INFO) Updating active symbols. max_freq=19 min_freq=12\n",
      "bpe_model_trainer.cc(268) LOG(INFO) Added: freq=19 size=2920 all=19968 active=997 piece=▁priest\n",
      "bpe_model_trainer.cc(268) LOG(INFO) Added: freq=18 size=2940 all=19962 active=991 piece=ATC\n",
      "bpe_model_trainer.cc(268) LOG(INFO) Added: freq=18 size=2960 all=20025 active=1054 piece=▁unf\n",
      "bpe_model_trainer.cc(268) LOG(INFO) Added: freq=18 size=2980 all=20066 active=1095 piece=▁idle\n",
      "bpe_model_trainer.cc(268) LOG(INFO) Added: freq=18 size=3000 all=20079 active=1108 piece=▁faire\n",
      "bpe_model_trainer.cc(159) LOG(INFO) Updating active symbols. max_freq=18 min_freq=12\n",
      "bpe_model_trainer.cc(268) LOG(INFO) Added: freq=18 size=3020 all=20077 active=1001 piece=▁butcher\n",
      "bpe_model_trainer.cc(268) LOG(INFO) Added: freq=17 size=3040 all=20088 active=1012 piece=lock\n",
      "bpe_model_trainer.cc(268) LOG(INFO) Added: freq=17 size=3060 all=20165 active=1089 piece=▁ver\n",
      "bpe_model_trainer.cc(268) LOG(INFO) Added: freq=17 size=3080 all=20222 active=1146 piece=▁deal\n",
      "bpe_model_trainer.cc(268) LOG(INFO) Added: freq=17 size=3100 all=20227 active=1151 piece=▁corse\n",
      "bpe_model_trainer.cc(159) LOG(INFO) Updating active symbols. max_freq=17 min_freq=11\n",
      "bpe_model_trainer.cc(268) LOG(INFO) Added: freq=17 size=3120 all=20224 active=1009 piece=▁humour\n",
      "bpe_model_trainer.cc(268) LOG(INFO) Added: freq=16 size=3140 all=20216 active=1001 piece=ek\n",
      "bpe_model_trainer.cc(268) LOG(INFO) Added: freq=16 size=3160 all=20309 active=1094 piece=▁Ind\n",
      "bpe_model_trainer.cc(268) LOG(INFO) Added: freq=16 size=3180 all=20335 active=1120 piece=▁cure\n",
      "bpe_model_trainer.cc(268) LOG(INFO) Added: freq=16 size=3200 all=20338 active=1123 piece=▁ghost\n",
      "bpe_model_trainer.cc(159) LOG(INFO) Updating active symbols. max_freq=16 min_freq=11\n",
      "bpe_model_trainer.cc(268) LOG(INFO) Added: freq=16 size=3220 all=20331 active=1008 piece=▁buried\n",
      "bpe_model_trainer.cc(268) LOG(INFO) Added: freq=16 size=3240 all=20327 active=1004 piece=▁Brother\n",
      "bpe_model_trainer.cc(268) LOG(INFO) Added: freq=15 size=3260 all=20346 active=1023 piece=GOR\n",
      "bpe_model_trainer.cc(268) LOG(INFO) Added: freq=15 size=3280 all=20409 active=1086 piece=ault\n",
      "bpe_model_trainer.cc(268) LOG(INFO) Added: freq=15 size=3300 all=20456 active=1133 piece=inous\n",
      "bpe_model_trainer.cc(159) LOG(INFO) Updating active symbols. max_freq=15 min_freq=10\n",
      "bpe_model_trainer.cc(268) LOG(INFO) Added: freq=15 size=3320 all=20467 active=1030 piece=▁DERBY\n",
      "bpe_model_trainer.cc(268) LOG(INFO) Added: freq=15 size=3340 all=20466 active=1029 piece=▁tempt\n",
      "bpe_model_trainer.cc(268) LOG(INFO) Added: freq=15 size=3360 all=20468 active=1031 piece=▁rotten\n",
      "bpe_model_trainer.cc(268) LOG(INFO) Added: freq=15 size=3380 all=20462 active=1025 piece=▁Somerset\n",
      "bpe_model_trainer.cc(268) LOG(INFO) Added: freq=14 size=3400 all=20494 active=1057 piece=ards\n",
      "bpe_model_trainer.cc(159) LOG(INFO) Updating active symbols. max_freq=14 min_freq=10\n",
      "bpe_model_trainer.cc(268) LOG(INFO) Added: freq=14 size=3420 all=20565 active=1088 piece=▁Res\n",
      "bpe_model_trainer.cc(268) LOG(INFO) Added: freq=14 size=3440 all=20587 active=1110 piece=▁Know\n",
      "bpe_model_trainer.cc(268) LOG(INFO) Added: freq=14 size=3460 all=20587 active=1110 piece=▁stat\n",
      "bpe_model_trainer.cc(268) LOG(INFO) Added: freq=14 size=3480 all=20593 active=1116 piece=▁gives\n",
      "bpe_model_trainer.cc(268) LOG(INFO) Added: freq=14 size=3500 all=20585 active=1108 piece=▁castle\n",
      "bpe_model_trainer.cc(159) LOG(INFO) Updating active symbols. max_freq=14 min_freq=9\n",
      "bpe_model_trainer.cc(268) LOG(INFO) Added: freq=14 size=3520 all=20587 active=1032 piece=▁VALERIA\n",
      "bpe_model_trainer.cc(268) LOG(INFO) Added: freq=14 size=3540 all=20576 active=1021 piece=▁vantage\n",
      "bpe_model_trainer.cc(268) LOG(INFO) Added: freq=13 size=3560 all=20567 active=1012 piece=go\n",
      "bpe_model_trainer.cc(268) LOG(INFO) Added: freq=13 size=3580 all=20653 active=1098 piece=ancy\n",
      "bpe_model_trainer.cc(268) LOG(INFO) Added: freq=13 size=3600 all=20707 active=1152 piece=▁lip\n",
      "bpe_model_trainer.cc(159) LOG(INFO) Updating active symbols. max_freq=13 min_freq=9\n",
      "bpe_model_trainer.cc(268) LOG(INFO) Added: freq=13 size=3620 all=20738 active=1067 piece=▁Very\n",
      "bpe_model_trainer.cc(268) LOG(INFO) Added: freq=13 size=3640 all=20748 active=1077 piece=▁sway\n",
      "bpe_model_trainer.cc(268) LOG(INFO) Added: freq=13 size=3660 all=20765 active=1094 piece=▁crack\n",
      "bpe_model_trainer.cc(268) LOG(INFO) Added: freq=13 size=3680 all=20770 active=1099 piece=▁unnat\n",
      "bpe_model_trainer.cc(268) LOG(INFO) Added: freq=13 size=3700 all=20772 active=1101 piece=▁kingly\n",
      "bpe_model_trainer.cc(159) LOG(INFO) Updating active symbols. max_freq=13 min_freq=9\n",
      "bpe_model_trainer.cc(268) LOG(INFO) Added: freq=13 size=3720 all=20772 active=1039 piece=▁protest\n",
      "bpe_model_trainer.cc(268) LOG(INFO) Added: freq=13 size=3740 all=20761 active=1028 piece=▁advantage\n",
      "bpe_model_trainer.cc(268) LOG(INFO) Added: freq=12 size=3760 all=20818 active=1085 piece=ung\n",
      "bpe_model_trainer.cc(268) LOG(INFO) Added: freq=12 size=3780 all=20899 active=1166 piece=▁Nap\n",
      "bpe_model_trainer.cc(268) LOG(INFO) Added: freq=12 size=3800 all=20941 active=1208 piece=kedom\n",
      "bpe_model_trainer.cc(159) LOG(INFO) Updating active symbols. max_freq=12 min_freq=8\n",
      "bpe_model_trainer.cc(268) LOG(INFO) Added: freq=12 size=3820 all=20957 active=1063 piece=▁hunt\n",
      "bpe_model_trainer.cc(268) LOG(INFO) Added: freq=12 size=3840 all=20970 active=1076 piece=▁BALTH\n",
      "bpe_model_trainer.cc(268) LOG(INFO) Added: freq=12 size=3860 all=20961 active=1067 piece=▁story\n",
      "bpe_model_trainer.cc(268) LOG(INFO) Added: freq=12 size=3880 all=20953 active=1059 piece=▁endure\n",
      "bpe_model_trainer.cc(268) LOG(INFO) Added: freq=12 size=3900 all=20944 active=1050 piece=▁whiles\n",
      "bpe_model_trainer.cc(159) LOG(INFO) Updating active symbols. max_freq=12 min_freq=8\n",
      "bpe_model_trainer.cc(268) LOG(INFO) Added: freq=12 size=3920 all=20931 active=1035 piece=▁remains\n",
      "bpe_model_trainer.cc(268) LOG(INFO) Added: freq=12 size=3940 all=20918 active=1022 piece=▁pronounce\n",
      "bpe_model_trainer.cc(268) LOG(INFO) Added: freq=11 size=3960 all=20934 active=1038 piece=hor\n",
      "bpe_model_trainer.cc(268) LOG(INFO) Added: freq=11 size=3980 all=21014 active=1118 piece=what\n",
      "bpe_model_trainer.cc(268) LOG(INFO) Added: freq=11 size=4000 all=21042 active=1146 piece=▁tap\n",
      "bpe_model_trainer.cc(159) LOG(INFO) Updating active symbols. max_freq=11 min_freq=8\n",
      "bpe_model_trainer.cc(268) LOG(INFO) Added: freq=11 size=4020 all=21086 active=1093 piece=▁Jack\n",
      "bpe_model_trainer.cc(268) LOG(INFO) Added: freq=11 size=4040 all=21091 active=1098 piece=▁qual\n",
      "bpe_model_trainer.cc(268) LOG(INFO) Added: freq=11 size=4060 all=21114 active=1121 piece=▁March\n",
      "bpe_model_trainer.cc(268) LOG(INFO) Added: freq=11 size=4080 all=21107 active=1114 piece=▁realm\n",
      "bpe_model_trainer.cc(268) LOG(INFO) Added: freq=11 size=4100 all=21097 active=1104 piece=▁DORCAS\n",
      "bpe_model_trainer.cc(159) LOG(INFO) Updating active symbols. max_freq=11 min_freq=7\n",
      "bpe_model_trainer.cc(268) LOG(INFO) Added: freq=11 size=4120 all=21090 active=1048 piece=▁freely\n",
      "bpe_model_trainer.cc(268) LOG(INFO) Added: freq=11 size=4140 all=21090 active=1048 piece=▁fathers\n",
      "bpe_model_trainer.cc(268) LOG(INFO) Added: freq=11 size=4160 all=21084 active=1042 piece=▁reverend\n",
      "bpe_model_trainer.cc(268) LOG(INFO) Added: freq=10 size=4180 all=21090 active=1048 piece=iny\n",
      "bpe_model_trainer.cc(268) LOG(INFO) Added: freq=10 size=4200 all=21151 active=1109 piece=reme\n",
      "bpe_model_trainer.cc(159) LOG(INFO) Updating active symbols. max_freq=10 min_freq=7\n",
      "bpe_model_trainer.cc(268) LOG(INFO) Added: freq=10 size=4220 all=21193 active=1098 piece=▁squ\n",
      "bpe_model_trainer.cc(268) LOG(INFO) Added: freq=10 size=4240 all=21224 active=1129 piece=▁furn\n",
      "bpe_model_trainer.cc(268) LOG(INFO) Added: freq=10 size=4260 all=21223 active=1128 piece=▁Hunts\n",
      "bpe_model_trainer.cc(268) LOG(INFO) Added: freq=10 size=4280 all=21224 active=1129 piece=▁finds\n",
      "bpe_model_trainer.cc(268) LOG(INFO) Added: freq=10 size=4300 all=21222 active=1127 piece=▁study\n",
      "bpe_model_trainer.cc(159) LOG(INFO) Updating active symbols. max_freq=10 min_freq=7\n",
      "bpe_model_trainer.cc(268) LOG(INFO) Added: freq=10 size=4320 all=21211 active=1051 piece=▁darest\n",
      "bpe_model_trainer.cc(268) LOG(INFO) Added: freq=10 size=4340 all=21203 active=1043 piece=▁silent\n",
      "bpe_model_trainer.cc(268) LOG(INFO) Added: freq=10 size=4360 all=21192 active=1032 piece=▁conceit\n",
      "bpe_model_trainer.cc(268) LOG(INFO) Added: freq=10 size=4380 all=21185 active=1025 piece=▁constant\n",
      "bpe_model_trainer.cc(268) LOG(INFO) Added: freq=10 size=4400 all=21167 active=1007 piece=▁imprisonment\n",
      "bpe_model_trainer.cc(159) LOG(INFO) Updating active symbols. max_freq=9 min_freq=7\n",
      "bpe_model_trainer.cc(268) LOG(INFO) Added: freq=9 size=4420 all=21243 active=1135 piece=law\n",
      "bpe_model_trainer.cc(268) LOG(INFO) Added: freq=9 size=4440 all=21294 active=1186 piece=clam\n",
      "bpe_model_trainer.cc(268) LOG(INFO) Added: freq=9 size=4460 all=21334 active=1226 piece=time\n",
      "bpe_model_trainer.cc(268) LOG(INFO) Added: freq=9 size=4480 all=21366 active=1258 piece=▁mir\n",
      "bpe_model_trainer.cc(268) LOG(INFO) Added: freq=9 size=4500 all=21398 active=1290 piece=osing\n",
      "bpe_model_trainer.cc(159) LOG(INFO) Updating active symbols. max_freq=9 min_freq=6\n",
      "bpe_model_trainer.cc(268) LOG(INFO) Added: freq=9 size=4520 all=21428 active=1094 piece=▁fors\n",
      "bpe_model_trainer.cc(268) LOG(INFO) Added: freq=9 size=4540 all=21438 active=1104 piece=▁sore\n",
      "bpe_model_trainer.cc(268) LOG(INFO) Added: freq=9 size=4560 all=21457 active=1123 piece=▁Salis\n",
      "bpe_model_trainer.cc(268) LOG(INFO) Added: freq=9 size=4580 all=21458 active=1124 piece=▁image\n",
      "bpe_model_trainer.cc(268) LOG(INFO) Added: freq=9 size=4600 all=21455 active=1121 piece=▁weeps\n",
      "bpe_model_trainer.cc(159) LOG(INFO) Updating active symbols. max_freq=9 min_freq=6\n",
      "bpe_model_trainer.cc(268) LOG(INFO) Added: freq=9 size=4620 all=21454 active=1072 piece=▁charac\n",
      "bpe_model_trainer.cc(268) LOG(INFO) Added: freq=9 size=4640 all=21446 active=1064 piece=▁stroke\n",
      "bpe_model_trainer.cc(268) LOG(INFO) Added: freq=9 size=4660 all=21436 active=1054 piece=▁froward\n",
      "bpe_model_trainer.cc(268) LOG(INFO) Added: freq=9 size=4680 all=21427 active=1045 piece=▁disgrace\n",
      "bpe_model_trainer.cc(268) LOG(INFO) Added: freq=9 size=4700 all=21414 active=1032 piece=▁rebellion\n",
      "bpe_model_trainer.cc(159) LOG(INFO) Updating active symbols. max_freq=9 min_freq=6\n",
      "bpe_model_trainer.cc(268) LOG(INFO) Added: freq=8 size=4720 all=21419 active=1076 piece=LOU\n",
      "bpe_model_trainer.cc(268) LOG(INFO) Added: freq=8 size=4740 all=21471 active=1128 piece=dita\n",
      "bpe_model_trainer.cc(268) LOG(INFO) Added: freq=8 size=4760 all=21521 active=1178 piece=▁Cry\n",
      "bpe_model_trainer.cc(268) LOG(INFO) Added: freq=8 size=4780 all=21540 active=1197 piece=▁spl\n",
      "bpe_model_trainer.cc(268) LOG(INFO) Added: freq=8 size=4800 all=21575 active=1232 piece=othes\n",
      "bpe_model_trainer.cc(159) LOG(INFO) Updating active symbols. max_freq=8 min_freq=6\n",
      "bpe_model_trainer.cc(268) LOG(INFO) Added: freq=8 size=4820 all=21586 active=1089 piece=▁coff\n",
      "bpe_model_trainer.cc(268) LOG(INFO) Added: freq=8 size=4840 all=21599 active=1102 piece=▁ride\n",
      "bpe_model_trainer.cc(268) LOG(INFO) Added: freq=8 size=4860 all=21608 active=1111 piece=▁Didst\n",
      "bpe_model_trainer.cc(268) LOG(INFO) Added: freq=8 size=4880 all=21603 active=1106 piece=▁hated\n",
      "bpe_model_trainer.cc(268) LOG(INFO) Added: freq=8 size=4900 all=21606 active=1109 piece=▁takes\n",
      "bpe_model_trainer.cc(159) LOG(INFO) Updating active symbols. max_freq=8 min_freq=6\n",
      "bpe_model_trainer.cc(268) LOG(INFO) Added: freq=8 size=4920 all=21598 active=1073 piece=▁deaths\n",
      "bpe_model_trainer.cc(268) LOG(INFO) Added: freq=8 size=4940 all=21582 active=1057 piece=▁retire\n",
      "bpe_model_trainer.cc(268) LOG(INFO) Added: freq=8 size=4960 all=21569 active=1044 piece=othecary\n",
      "bpe_model_trainer.cc(268) LOG(INFO) Added: freq=8 size=4980 all=21558 active=1033 piece=▁mystery\n",
      "bpe_model_trainer.cc(268) LOG(INFO) Added: freq=8 size=5000 all=21550 active=1025 piece=▁yielded\n",
      "bpe_model_trainer.cc(159) LOG(INFO) Updating active symbols. max_freq=8 min_freq=6\n",
      "bpe_model_trainer.cc(268) LOG(INFO) Added: freq=8 size=5020 all=21535 active=1063 piece=▁withdraw\n",
      "bpe_model_trainer.cc(268) LOG(INFO) Added: freq=8 size=5040 all=21518 active=1046 piece=▁triumphant\n",
      "bpe_model_trainer.cc(268) LOG(INFO) Added: freq=7 size=5060 all=21554 active=1082 piece=ips\n",
      "bpe_model_trainer.cc(268) LOG(INFO) Added: freq=7 size=5080 all=21597 active=1125 piece=ased\n",
      "bpe_model_trainer.cc(268) LOG(INFO) Added: freq=7 size=5100 all=21638 active=1166 piece=oops\n",
      "bpe_model_trainer.cc(159) LOG(INFO) Updating active symbols. max_freq=7 min_freq=5\n",
      "bpe_model_trainer.cc(268) LOG(INFO) Added: freq=7 size=5120 all=21667 active=1110 piece=▁Wed\n",
      "bpe_model_trainer.cc(268) LOG(INFO) Added: freq=7 size=5140 all=21697 active=1140 piece=ables\n",
      "bpe_model_trainer.cc(268) LOG(INFO) Added: freq=7 size=5160 all=21734 active=1177 piece=pense\n",
      "bpe_model_trainer.cc(268) LOG(INFO) Added: freq=7 size=5180 all=21741 active=1184 piece=▁alms\n",
      "bpe_model_trainer.cc(268) LOG(INFO) Added: freq=7 size=5200 all=21753 active=1196 piece=▁godd\n",
      "bpe_model_trainer.cc(159) LOG(INFO) Updating active symbols. max_freq=7 min_freq=5\n",
      "bpe_model_trainer.cc(268) LOG(INFO) Added: freq=7 size=5220 all=21750 active=1083 piece=▁pern\n",
      "bpe_model_trainer.cc(268) LOG(INFO) Added: freq=7 size=5240 all=21760 active=1093 piece=IDAMUS\n",
      "bpe_model_trainer.cc(268) LOG(INFO) Added: freq=7 size=5260 all=21774 active=1107 piece=▁Queen\n",
      "bpe_model_trainer.cc(268) LOG(INFO) Added: freq=7 size=5280 all=21768 active=1101 piece=▁dower\n",
      "bpe_model_trainer.cc(268) LOG(INFO) Added: freq=7 size=5300 all=21758 active=1091 piece=▁price\n",
      "bpe_model_trainer.cc(159) LOG(INFO) Updating active symbols. max_freq=7 min_freq=5\n",
      "bpe_model_trainer.cc(268) LOG(INFO) Added: freq=7 size=5320 all=21744 active=1074 piece=ribunes\n",
      "bpe_model_trainer.cc(268) LOG(INFO) Added: freq=7 size=5340 all=21733 active=1063 piece=▁joints\n",
      "bpe_model_trainer.cc(268) LOG(INFO) Added: freq=7 size=5360 all=21720 active=1050 piece=▁sought\n",
      "bpe_model_trainer.cc(268) LOG(INFO) Added: freq=7 size=5380 all=21707 active=1037 piece=▁Villain\n",
      "bpe_model_trainer.cc(268) LOG(INFO) Added: freq=7 size=5400 all=21689 active=1019 piece=▁liberal\n",
      "bpe_model_trainer.cc(159) LOG(INFO) Updating active symbols. max_freq=7 min_freq=5\n",
      "bpe_model_trainer.cc(268) LOG(INFO) Added: freq=7 size=5420 all=21677 active=1072 piece=▁tapster\n",
      "bpe_model_trainer.cc(268) LOG(INFO) Added: freq=7 size=5440 all=21663 active=1058 piece=▁immortal\n",
      "bpe_model_trainer.cc(268) LOG(INFO) Added: freq=7 size=5460 all=21647 active=1042 piece=▁character\n",
      "bpe_model_trainer.cc(268) LOG(INFO) Added: freq=7 size=5480 all=21629 active=1024 piece=▁possession\n",
      "bpe_model_trainer.cc(268) LOG(INFO) Added: freq=6 size=5500 all=21633 active=1028 piece=adv\n",
      "bpe_model_trainer.cc(159) LOG(INFO) Updating active symbols. max_freq=6 min_freq=5\n",
      "bpe_model_trainer.cc(268) LOG(INFO) Added: freq=6 size=5520 all=21684 active=1129 piece=▁gn\n",
      "bpe_model_trainer.cc(268) LOG(INFO) Added: freq=6 size=5540 all=21713 active=1158 piece=join\n",
      "bpe_model_trainer.cc(268) LOG(INFO) Added: freq=6 size=5560 all=21746 active=1191 piece=▁CAR\n",
      "bpe_model_trainer.cc(268) LOG(INFO) Added: freq=6 size=5580 all=21769 active=1214 piece=▁fin\n",
      "bpe_model_trainer.cc(268) LOG(INFO) Added: freq=6 size=5600 all=21793 active=1238 piece=CROOP\n",
      "bpe_model_trainer.cc(159) LOG(INFO) Updating active symbols. max_freq=6 min_freq=5\n",
      "bpe_model_trainer.cc(268) LOG(INFO) Added: freq=6 size=5620 all=21823 active=1119 piece=iring\n",
      "bpe_model_trainer.cc(268) LOG(INFO) Added: freq=6 size=5640 all=21852 active=1148 piece=▁Ever\n",
      "bpe_model_trainer.cc(268) LOG(INFO) Added: freq=6 size=5660 all=21844 active=1140 piece=▁buzz\n",
      "bpe_model_trainer.cc(268) LOG(INFO) Added: freq=6 size=5680 all=21845 active=1141 piece=▁lour\n",
      "bpe_model_trainer.cc(268) LOG(INFO) Added: freq=6 size=5700 all=21851 active=1147 piece=▁shel\n",
      "bpe_model_trainer.cc(159) LOG(INFO) Updating active symbols. max_freq=6 min_freq=4\n",
      "bpe_model_trainer.cc(268) LOG(INFO) Added: freq=6 size=5720 all=21862 active=1102 piece=idered\n",
      "bpe_model_trainer.cc(268) LOG(INFO) Added: freq=6 size=5740 all=21864 active=1104 piece=▁Shalt\n",
      "bpe_model_trainer.cc(268) LOG(INFO) Added: freq=6 size=5760 all=21863 active=1103 piece=▁divor\n",
      "bpe_model_trainer.cc(268) LOG(INFO) Added: freq=6 size=5780 all=21863 active=1103 piece=▁likes\n",
      "bpe_model_trainer.cc(268) LOG(INFO) Added: freq=6 size=5800 all=21854 active=1094 piece=▁silly\n",
      "bpe_model_trainer.cc(159) LOG(INFO) Updating active symbols. max_freq=6 min_freq=4\n",
      "bpe_model_trainer.cc(268) LOG(INFO) Added: freq=6 size=5820 all=21853 active=1092 piece=▁Gaoler\n",
      "bpe_model_trainer.cc(268) LOG(INFO) Added: freq=6 size=5840 all=21834 active=1073 piece=▁dearer\n",
      "bpe_model_trainer.cc(268) LOG(INFO) Added: freq=6 size=5860 all=21820 active=1059 piece=▁lovers\n",
      "bpe_model_trainer.cc(268) LOG(INFO) Added: freq=6 size=5880 all=21814 active=1053 piece=▁slight\n",
      "bpe_model_trainer.cc(268) LOG(INFO) Added: freq=6 size=5900 all=21809 active=1048 piece=▁Comfort\n",
      "bpe_model_trainer.cc(159) LOG(INFO) Updating active symbols. max_freq=6 min_freq=4\n",
      "bpe_model_trainer.cc(268) LOG(INFO) Added: freq=6 size=5920 all=21796 active=1078 piece=▁extreme\n",
      "bpe_model_trainer.cc(268) LOG(INFO) Added: freq=6 size=5940 all=21782 active=1064 piece=▁neglect\n",
      "bpe_model_trainer.cc(268) LOG(INFO) Added: freq=6 size=5960 all=21766 active=1048 piece=▁tempted\n",
      "bpe_model_trainer.cc(268) LOG(INFO) Added: freq=6 size=5980 all=21755 active=1037 piece=▁confound\n",
      "bpe_model_trainer.cc(268) LOG(INFO) Added: freq=6 size=6000 all=21735 active=1017 piece=▁thankful\n",
      "bpe_model_trainer.cc(159) LOG(INFO) Updating active symbols. max_freq=6 min_freq=4\n",
      "bpe_model_trainer.cc(268) LOG(INFO) Added: freq=6 size=6020 all=21716 active=1067 piece=▁readiness\n",
      "bpe_model_trainer.cc(268) LOG(INFO) Added: freq=6 size=6040 all=21696 active=1047 piece=▁sufficient\n",
      "bpe_model_trainer.cc(268) LOG(INFO) Added: freq=5 size=6060 all=21717 active=1068 piece=des\n",
      "bpe_model_trainer.cc(268) LOG(INFO) Added: freq=5 size=6080 all=21766 active=1117 piece=ands\n",
      "bpe_model_trainer.cc(268) LOG(INFO) Added: freq=5 size=6100 all=21796 active=1147 piece=last\n",
      "bpe_model_trainer.cc(159) LOG(INFO) Updating active symbols. max_freq=5 min_freq=4\n",
      "bpe_model_trainer.cc(268) LOG(INFO) Added: freq=5 size=6120 all=21821 active=1112 piece=▁Che\n",
      "bpe_model_trainer.cc(268) LOG(INFO) Added: freq=5 size=6140 all=21842 active=1133 piece=▁fan\n",
      "bpe_model_trainer.cc(268) LOG(INFO) Added: freq=5 size=6160 all=21854 active=1145 piece=Twixt\n",
      "bpe_model_trainer.cc(268) LOG(INFO) Added: freq=5 size=6180 all=21885 active=1176 piece=ption\n",
      "bpe_model_trainer.cc(268) LOG(INFO) Added: freq=5 size=6200 all=21904 active=1195 piece=▁Kind\n",
      "bpe_model_trainer.cc(159) LOG(INFO) Updating active symbols. max_freq=5 min_freq=4\n",
      "bpe_model_trainer.cc(268) LOG(INFO) Added: freq=5 size=6220 all=21901 active=1091 piece=▁blot\n",
      "bpe_model_trainer.cc(268) LOG(INFO) Added: freq=5 size=6240 all=21901 active=1091 piece=▁fulf\n",
      "bpe_model_trainer.cc(268) LOG(INFO) Added: freq=5 size=6260 all=21889 active=1079 piece=▁obsc\n",
      "bpe_model_trainer.cc(268) LOG(INFO) Added: freq=5 size=6280 all=21898 active=1088 piece=▁terr\n",
      "bpe_model_trainer.cc(268) LOG(INFO) Added: freq=5 size=6300 all=21909 active=1099 piece=lihood\n",
      "bpe_model_trainer.cc(159) LOG(INFO) Updating active symbols. max_freq=5 min_freq=4\n",
      "bpe_model_trainer.cc(268) LOG(INFO) Added: freq=5 size=6320 all=21903 active=1089 piece=▁Touch\n",
      "bpe_model_trainer.cc(268) LOG(INFO) Added: freq=5 size=6340 all=21893 active=1079 piece=▁crept\n",
      "bpe_model_trainer.cc(268) LOG(INFO) Added: freq=5 size=6360 all=21882 active=1068 piece=▁groom\n",
      "bpe_model_trainer.cc(268) LOG(INFO) Added: freq=5 size=6380 all=21870 active=1056 piece=▁print\n",
      "bpe_model_trainer.cc(268) LOG(INFO) Added: freq=5 size=6400 all=21861 active=1047 piece=▁tiger\n",
      "bpe_model_trainer.cc(159) LOG(INFO) Updating active symbols. max_freq=5 min_freq=4\n",
      "bpe_model_trainer.cc(268) LOG(INFO) Added: freq=5 size=6420 all=21859 active=1092 piece=▁Stands\n",
      "bpe_model_trainer.cc(268) LOG(INFO) Added: freq=5 size=6440 all=21851 active=1084 piece=▁butter\n",
      "bpe_model_trainer.cc(268) LOG(INFO) Added: freq=5 size=6460 all=21849 active=1082 piece=▁growth\n",
      "bpe_model_trainer.cc(268) LOG(INFO) Added: freq=5 size=6480 all=21838 active=1071 piece=▁patron\n",
      "bpe_model_trainer.cc(268) LOG(INFO) Added: freq=5 size=6500 all=21823 active=1056 piece=▁unluck\n",
      "bpe_model_trainer.cc(159) LOG(INFO) Updating active symbols. max_freq=5 min_freq=4\n",
      "bpe_model_trainer.cc(268) LOG(INFO) Added: freq=5 size=6520 all=21813 active=1080 piece=▁Neptune\n",
      "bpe_model_trainer.cc(268) LOG(INFO) Added: freq=5 size=6540 all=21797 active=1064 piece=▁dissemb\n",
      "bpe_model_trainer.cc(268) LOG(INFO) Added: freq=5 size=6560 all=21783 active=1050 piece=▁loathed\n",
      "bpe_model_trainer.cc(268) LOG(INFO) Added: freq=5 size=6580 all=21764 active=1031 piece=▁secrets\n",
      "bpe_model_trainer.cc(268) LOG(INFO) Added: freq=5 size=6600 all=21749 active=1016 piece=▁Scotland\n",
      "bpe_model_trainer.cc(159) LOG(INFO) Updating active symbols. max_freq=5 min_freq=4\n",
      "bpe_model_trainer.cc(268) LOG(INFO) Added: freq=5 size=6620 all=21731 active=1070 piece=▁delicate\n",
      "bpe_model_trainer.cc(268) LOG(INFO) Added: freq=5 size=6640 all=21718 active=1057 piece=▁murdered\n",
      "bpe_model_trainer.cc(268) LOG(INFO) Added: freq=5 size=6660 all=21702 active=1041 piece=▁wrinkled\n",
      "bpe_model_trainer.cc(268) LOG(INFO) Added: freq=5 size=6680 all=21686 active=1025 piece=▁royalties\n",
      "bpe_model_trainer.cc(268) LOG(INFO) Added: freq=5 size=6700 all=21668 active=1007 piece=▁friendship\n",
      "bpe_model_trainer.cc(159) LOG(INFO) Updating active symbols. max_freq=5 min_freq=3\n",
      "bpe_model_trainer.cc(268) LOG(INFO) Added: freq=5 size=6720 all=21648 active=1064 piece=▁lamentation\n",
      "bpe_model_trainer.cc(268) LOG(INFO) Added: freq=4 size=6740 all=21670 active=1086 piece=ato\n",
      "bpe_model_trainer.cc(268) LOG(INFO) Added: freq=4 size=6760 all=21719 active=1135 piece=met\n",
      "bpe_model_trainer.cc(268) LOG(INFO) Added: freq=4 size=6780 all=21754 active=1170 piece=▁vi\n",
      "bpe_model_trainer.cc(268) LOG(INFO) Added: freq=4 size=6800 all=21773 active=1189 piece=gued\n",
      "bpe_model_trainer.cc(159) LOG(INFO) Updating active symbols. max_freq=4 min_freq=3\n",
      "bpe_model_trainer.cc(268) LOG(INFO) Added: freq=4 size=6820 all=21799 active=1112 piece=pped\n",
      "bpe_model_trainer.cc(268) LOG(INFO) Added: freq=4 size=6840 all=21827 active=1140 piece=upon\n",
      "bpe_model_trainer.cc(268) LOG(INFO) Added: freq=4 size=6860 all=21839 active=1152 piece=▁Jun\n",
      "bpe_model_trainer.cc(268) LOG(INFO) Added: freq=4 size=6880 all=21849 active=1162 piece=▁haw\n",
      "bpe_model_trainer.cc(268) LOG(INFO) Added: freq=4 size=6900 all=21859 active=1172 piece=alion\n",
      "bpe_model_trainer.cc(159) LOG(INFO) Updating active symbols. max_freq=4 min_freq=3\n",
      "bpe_model_trainer.cc(268) LOG(INFO) Added: freq=4 size=6920 all=21882 active=1114 piece=iding\n",
      "bpe_model_trainer.cc(268) LOG(INFO) Added: freq=4 size=6940 all=21897 active=1129 piece=thing\n",
      "bpe_model_trainer.cc(268) LOG(INFO) Added: freq=4 size=6960 all=21900 active=1132 piece=▁Join\n",
      "bpe_model_trainer.cc(268) LOG(INFO) Added: freq=4 size=6980 all=21898 active=1130 piece=▁bush\n",
      "bpe_model_trainer.cc(268) LOG(INFO) Added: freq=4 size=7000 all=21896 active=1128 piece=▁fold\n",
      "bpe_model_trainer.cc(159) LOG(INFO) Updating active symbols. max_freq=4 min_freq=3\n",
      "bpe_model_trainer.cc(268) LOG(INFO) Added: freq=4 size=7020 all=21886 active=1083 piece=▁liqu\n",
      "bpe_model_trainer.cc(268) LOG(INFO) Added: freq=4 size=7040 all=21888 active=1085 piece=▁sequ\n",
      "bpe_model_trainer.cc(268) LOG(INFO) Added: freq=4 size=7060 all=21890 active=1087 piece=ailing\n",
      "bpe_model_trainer.cc(268) LOG(INFO) Added: freq=4 size=7080 all=21914 active=1111 piece=otless\n",
      "bpe_model_trainer.cc(268) LOG(INFO) Added: freq=4 size=7100 all=21917 active=1114 piece=▁Groom\n",
      "bpe_model_trainer.cc(159) LOG(INFO) Updating active symbols. max_freq=4 min_freq=3\n",
      "bpe_model_trainer.cc(268) LOG(INFO) Added: freq=4 size=7120 all=21905 active=1084 piece=▁afore\n",
      "bpe_model_trainer.cc(268) LOG(INFO) Added: freq=4 size=7140 all=21895 active=1074 piece=▁budge\n",
      "bpe_model_trainer.cc(268) LOG(INFO) Added: freq=4 size=7160 all=21889 active=1068 piece=▁greyh\n",
      "bpe_model_trainer.cc(268) LOG(INFO) Added: freq=4 size=7180 all=21879 active=1058 piece=▁notes\n",
      "bpe_model_trainer.cc(268) LOG(INFO) Added: freq=4 size=7200 all=21866 active=1045 piece=▁separ\n",
      "bpe_model_trainer.cc(159) LOG(INFO) Updating active symbols. max_freq=4 min_freq=3\n",
      "bpe_model_trainer.cc(268) LOG(INFO) Added: freq=4 size=7220 all=21856 active=1082 piece=▁unple\n",
      "bpe_model_trainer.cc(268) LOG(INFO) Added: freq=4 size=7240 all=21856 active=1082 piece=▁Cursed\n",
      "bpe_model_trainer.cc(268) LOG(INFO) Added: freq=4 size=7260 all=21845 active=1071 piece=▁ashore\n",
      "bpe_model_trainer.cc(268) LOG(INFO) Added: freq=4 size=7280 all=21837 active=1063 piece=▁create\n",
      "bpe_model_trainer.cc(268) LOG(INFO) Added: freq=4 size=7300 all=21822 active=1048 piece=▁forest\n",
      "bpe_model_trainer.cc(159) LOG(INFO) Updating active symbols. max_freq=4 min_freq=3\n",
      "bpe_model_trainer.cc(268) LOG(INFO) Added: freq=4 size=7320 all=21807 active=1077 piece=▁malign\n",
      "bpe_model_trainer.cc(268) LOG(INFO) Added: freq=4 size=7340 all=21792 active=1062 piece=▁profan\n",
      "bpe_model_trainer.cc(268) LOG(INFO) Added: freq=4 size=7360 all=21777 active=1047 piece=▁sleeps\n",
      "bpe_model_trainer.cc(268) LOG(INFO) Added: freq=4 size=7380 all=21766 active=1036 piece=▁vassal\n",
      "bpe_model_trainer.cc(268) LOG(INFO) Added: freq=4 size=7400 all=21758 active=1028 piece=▁Francis\n",
      "bpe_model_trainer.cc(159) LOG(INFO) Updating active symbols. max_freq=4 min_freq=3\n",
      "bpe_model_trainer.cc(268) LOG(INFO) Added: freq=4 size=7420 all=21744 active=1073 piece=▁conspir\n",
      "bpe_model_trainer.cc(268) LOG(INFO) Added: freq=4 size=7440 all=21732 active=1061 piece=▁exclaim\n",
      "bpe_model_trainer.cc(268) LOG(INFO) Added: freq=4 size=7460 all=21717 active=1046 piece=▁lecture\n",
      "bpe_model_trainer.cc(268) LOG(INFO) Added: freq=4 size=7480 all=21698 active=1027 piece=▁raiment\n",
      "bpe_model_trainer.cc(268) LOG(INFO) Added: freq=4 size=7500 all=21681 active=1010 piece=▁tainted\n",
      "bpe_model_trainer.cc(159) LOG(INFO) Updating active symbols. max_freq=4 min_freq=3\n",
      "bpe_model_trainer.cc(268) LOG(INFO) Added: freq=4 size=7520 all=21667 active=1071 piece=▁Doricles\n",
      "bpe_model_trainer.cc(268) LOG(INFO) Added: freq=4 size=7540 all=21649 active=1053 piece=▁bootless\n",
      "bpe_model_trainer.cc(268) LOG(INFO) Added: freq=4 size=7560 all=21632 active=1036 piece=▁f"
     ]
    }
   ],
   "source": [
    "# tạo Tokenize bằng BPE\n",
    "spm.SentencePieceTrainer.train(\n",
    "    input=\"tiny_shakespeare.txt\",\n",
    "    model_prefix=\"tinyshakespeare\",\n",
    "    vocab_size=8000,        # số lượng token trong từ vựng (bạn có thể đổi)\n",
    "    character_coverage=1.0, # 1.0 = bao phủ hết ký tự trong tiếng Anh\n",
    "    model_type=\"bpe\"        # dùng Byte Pair Encoding\n",
    ")"
   ]
  },
  {
   "cell_type": "code",
   "execution_count": 6,
   "id": "b0fa00a5",
   "metadata": {
    "execution": {
     "iopub.execute_input": "2025-10-17T08:40:48.826327Z",
     "iopub.status.busy": "2025-10-17T08:40:48.826048Z",
     "iopub.status.idle": "2025-10-17T08:40:48.832034Z",
     "shell.execute_reply": "2025-10-17T08:40:48.831174Z"
    },
    "papermill": {
     "duration": 0.011933,
     "end_time": "2025-10-17T08:40:48.833197",
     "exception": false,
     "start_time": "2025-10-17T08:40:48.821264",
     "status": "completed"
    },
    "tags": []
   },
   "outputs": [
    {
     "name": "stderr",
     "output_type": "stream",
     "text": [
      "arthest\n",
      "bpe_model_trainer.cc(268) LOG(INFO) Added: freq=4 size=7580 all=21613 active=1017 piece=▁minstrel\n",
      "bpe_model_trainer.cc(268) LOG(INFO) Added: freq=4 size=7600 all=21594 active=998 piece=▁stooping\n",
      "bpe_model_trainer.cc(159) LOG(INFO) Updating active symbols. max_freq=4 min_freq=3\n",
      "bpe_model_trainer.cc(268) LOG(INFO) Added: freq=4 size=7620 all=21574 active=1060 piece=▁caparison\n",
      "bpe_model_trainer.cc(268) LOG(INFO) Added: freq=4 size=7640 all=21558 active=1044 piece=▁merriment\n",
      "bpe_model_trainer.cc(268) LOG(INFO) Added: freq=4 size=7660 all=21539 active=1025 piece=▁utterance\n",
      "bpe_model_trainer.cc(268) LOG(INFO) Added: freq=4 size=7680 all=21519 active=1005 piece=▁jealousies\n",
      "bpe_model_trainer.cc(268) LOG(INFO) Added: freq=4 size=7700 all=21500 active=986 piece=▁indifferent\n",
      "bpe_model_trainer.cc(159) LOG(INFO) Updating active symbols. max_freq=4 min_freq=3\n",
      "bpe_model_trainer.cc(268) LOG(INFO) Added: freq=3 size=7720 all=21494 active=1069 piece=sy\n",
      "bpe_model_trainer.cc(268) LOG(INFO) Added: freq=3 size=7740 all=21514 active=1089 piece=ech\n",
      "bpe_model_trainer.cc(268) LOG(INFO) Added: freq=3 size=7760 all=21543 active=1118 piece=nel\n",
      "bpe_model_trainer.cc(268) LOG(INFO) Added: freq=3 size=7780 all=21573 active=1148 piece=▁Ti\n",
      "bpe_model_trainer.cc(268) LOG(INFO) Added: freq=3 size=7800 all=21584 active=1159 piece=aith\n",
      "bpe_model_trainer.cc(159) LOG(INFO) Updating active symbols. max_freq=3 min_freq=3\n",
      "bpe_model_trainer.cc(268) LOG(INFO) Added: freq=3 size=7820 all=21606 active=1100 piece=bred\n",
      "bpe_model_trainer.cc(268) LOG(INFO) Added: freq=3 size=7840 all=21625 active=1119 piece=inet\n",
      "bpe_model_trainer.cc(268) LOG(INFO) Added: freq=3 size=7860 all=21640 active=1134 piece=pter\n",
      "bpe_model_trainer.cc(268) LOG(INFO) Added: freq=3 size=7880 all=21657 active=1151 piece=vity\n",
      "bpe_model_trainer.cc(268) LOG(INFO) Added: freq=3 size=7900 all=21669 active=1163 piece=▁Phi\n",
      "bpe_model_trainer.cc(159) LOG(INFO) Updating active symbols. max_freq=3 min_freq=3\n",
      "bpe_model_trainer.cc(268) LOG(INFO) Added: freq=3 size=7920 all=21683 active=1097 piece=▁baw\n",
      "trainer_interface.cc(687) LOG(INFO) Saving model: tinyshakespeare.model\n",
      "trainer_interface.cc(699) LOG(INFO) Saving vocabs: tinyshakespeare.vocab\n"
     ]
    }
   ],
   "source": [
    "class TinyShakespeareData(torch.utils.data.Dataset):\n",
    "    def __init__(self, max_seq_length=None):\n",
    "        dataset = load_dataset(\n",
    "            \"text\",\n",
    "            data_files=\"https://raw.githubusercontent.com/karpathy/char-rnn/master/data/tinyshakespeare/input.txt\"\n",
    "        )\n",
    "        self.dataset = dataset[\"train\"]\n",
    "        self.sp = spm.SentencePieceProcessor(model_file=\"tinyshakespeare.model\")\n",
    "        self.max_seq_length = max_seq_length\n",
    "\n",
    "    def __len__(self):\n",
    "        return len(self.dataset)\n",
    "#Thực hiện tokenize + chuyển sang ID cho từng mẫu dữ liệu.\n",
    "    def __getitem__(self, idx):\n",
    "        text = self.dataset[idx][\"text\"]\n",
    "        encoded = self.sp.encode_as_ids(text, add_bos=True, add_eos=True)\n",
    "        if self.max_seq_length:\n",
    "            encoded = encoded[:self.max_seq_length]\n",
    "        return torch.tensor(encoded, dtype=torch.long)\n",
    "# Để gom dữ liệu thành batch, thêm padding cho các câu có độ dài khác nhau.\n",
    "    def collate_function(self, batch):\n",
    "        return torch.nn.utils.rnn.pad_sequence(\n",
    "            batch, batch_first=True, padding_value=3\n",
    "        )"
   ]
  },
  {
   "cell_type": "code",
   "execution_count": 7,
   "id": "5bdc4f0b",
   "metadata": {
    "execution": {
     "iopub.execute_input": "2025-10-17T08:40:48.842705Z",
     "iopub.status.busy": "2025-10-17T08:40:48.842494Z",
     "iopub.status.idle": "2025-10-17T08:40:49.060059Z",
     "shell.execute_reply": "2025-10-17T08:40:49.059244Z"
    },
    "papermill": {
     "duration": 0.223718,
     "end_time": "2025-10-17T08:40:49.061283",
     "exception": false,
     "start_time": "2025-10-17T08:40:48.837565",
     "status": "completed"
    },
    "tags": []
   },
   "outputs": [
    {
     "name": "stdout",
     "output_type": "stream",
     "text": [
      "40000\n",
      "tensor([   1,  423,  807, 7959,    2])\n"
     ]
    }
   ],
   "source": [
    "data = TinyShakespeareData()\n",
    "print(len(data))\n",
    "print(data[0])         # Tensor token ID"
   ]
  },
  {
   "cell_type": "markdown",
   "id": "c14216cf",
   "metadata": {
    "papermill": {
     "duration": 0.004104,
     "end_time": "2025-10-17T08:40:49.069883",
     "exception": false,
     "start_time": "2025-10-17T08:40:49.065779",
     "status": "completed"
    },
    "tags": []
   },
   "source": [
    "# Create A Simple Decoder only Transformer Network"
   ]
  },
  {
   "cell_type": "code",
   "execution_count": 8,
   "id": "3a5e8b87",
   "metadata": {
    "execution": {
     "iopub.execute_input": "2025-10-17T08:40:49.079693Z",
     "iopub.status.busy": "2025-10-17T08:40:49.079036Z",
     "iopub.status.idle": "2025-10-17T08:40:49.084238Z",
     "shell.execute_reply": "2025-10-17T08:40:49.083605Z"
    },
    "papermill": {
     "duration": 0.011396,
     "end_time": "2025-10-17T08:40:49.085481",
     "exception": false,
     "start_time": "2025-10-17T08:40:49.074085",
     "status": "completed"
    },
    "tags": []
   },
   "outputs": [],
   "source": [
    "#implement positional encoder \n",
    "class PositionalEncoding(nn.Module):\n",
    "    def __init__(self, d_model, max_seq_length):\n",
    "        super(PositionalEncoding, self).__init__()\n",
    "        \n",
    "        pe = torch.zeros(max_seq_length, d_model)\n",
    "        position = torch.arange(0, max_seq_length, dtype=torch.float).unsqueeze(1)\n",
    "        div_term = torch.exp(torch.arange(0, d_model, 2).float() * -(math.log(10000.0) / d_model))\n",
    "        \n",
    "        pe[:, 0::2] = torch.sin(position * div_term)\n",
    "        pe[:, 1::2] = torch.cos(position * div_term)\n",
    "        \n",
    "        self.register_buffer('pe', pe.unsqueeze(0))\n",
    "        \n",
    "    def forward(self, x):\n",
    "        return x + self.pe[:, :x.size(1)]"
   ]
  },
  {
   "cell_type": "code",
   "execution_count": 9,
   "id": "451356e8",
   "metadata": {
    "execution": {
     "iopub.execute_input": "2025-10-17T08:40:49.094554Z",
     "iopub.status.busy": "2025-10-17T08:40:49.094355Z",
     "iopub.status.idle": "2025-10-17T08:40:49.098354Z",
     "shell.execute_reply": "2025-10-17T08:40:49.097835Z"
    },
    "papermill": {
     "duration": 0.009739,
     "end_time": "2025-10-17T08:40:49.099387",
     "exception": false,
     "start_time": "2025-10-17T08:40:49.089648",
     "status": "completed"
    },
    "tags": []
   },
   "outputs": [],
   "source": [
    "#define decoder feedforward layers \n",
    "class PositionWiseFeedForward(nn.Module):\n",
    "    def __init__(self, d_model, d_ff):\n",
    "        super(PositionWiseFeedForward, self).__init__()\n",
    "        self.fc1 = nn.Linear(d_model, d_ff)\n",
    "        self.relu = nn.ReLU()\n",
    "        self.fc2 = nn.Linear(d_ff, d_model)\n",
    "\n",
    "    def forward(self, x):\n",
    "        return self.fc2(self.relu(self.fc1(x)))"
   ]
  },
  {
   "cell_type": "code",
   "execution_count": 10,
   "id": "925b766d",
   "metadata": {
    "execution": {
     "iopub.execute_input": "2025-10-17T08:40:49.108693Z",
     "iopub.status.busy": "2025-10-17T08:40:49.108491Z",
     "iopub.status.idle": "2025-10-17T08:40:49.115434Z",
     "shell.execute_reply": "2025-10-17T08:40:49.114830Z"
    },
    "papermill": {
     "duration": 0.013005,
     "end_time": "2025-10-17T08:40:49.116635",
     "exception": false,
     "start_time": "2025-10-17T08:40:49.103630",
     "status": "completed"
    },
    "tags": []
   },
   "outputs": [],
   "source": [
    "class MultiHeadAttention(nn.Module):\n",
    "    def __init__(self, d_model, num_heads):\n",
    "        super(MultiHeadAttention, self).__init__()\n",
    "        assert d_model % num_heads == 0, \"d_model must be divisible by num_heads\"\n",
    "        \n",
    "        self.d_model = d_model\n",
    "        self.num_heads = num_heads\n",
    "        self.d_k = d_model // num_heads\n",
    "        \n",
    "        #create queries, keys, values and output\n",
    "        self.W_q = nn.Linear(d_model, d_model)\n",
    "        self.W_k = nn.Linear(d_model, d_model)\n",
    "        self.W_v = nn.Linear(d_model, d_model)\n",
    "        self.W_o = nn.Linear(d_model, d_model)\n",
    "\n",
    "    #impelement attention formula     \n",
    "    def scaled_dot_product_attention(self, Q, K, V, mask=None):\n",
    "        attn_scores = torch.matmul(Q, K.transpose(-2, -1)) / math.sqrt(self.d_k)\n",
    "        if mask is not None:\n",
    "            attn_scores = attn_scores.masked_fill(mask == 0, -1e9)\n",
    "        attn_probs = torch.softmax(attn_scores, dim=-1)\n",
    "        output = torch.matmul(attn_probs, V)\n",
    "        return output\n",
    "\n",
    "    #function to split input values into multi-head format    \n",
    "    def split_heads(self, x):\n",
    "        batch_size, seq_length, d_model = x.size()\n",
    "        return x.view(batch_size, seq_length, self.num_heads, self.d_k).transpose(1, 2)\n",
    "\n",
    "    #function to concatenate multihead attention values together     \n",
    "    def combine_heads(self, x):\n",
    "        batch_size, _, seq_length, d_k = x.size()\n",
    "        return x.transpose(1, 2).contiguous().view(batch_size, seq_length, self.d_model)\n",
    "        \n",
    "    def forward(self, Q, K, V, mask=None):\n",
    "        Q = self.split_heads(self.W_q(Q))\n",
    "        K = self.split_heads(self.W_k(K))\n",
    "        V = self.split_heads(self.W_v(V))\n",
    "        \n",
    "        attn_output = self.scaled_dot_product_attention(Q, K, V, mask)\n",
    "        output = self.W_o(self.combine_heads(attn_output))\n",
    "        return output"
   ]
  },
  {
   "cell_type": "code",
   "execution_count": 11,
   "id": "24d23402",
   "metadata": {
    "execution": {
     "iopub.execute_input": "2025-10-17T08:40:49.125940Z",
     "iopub.status.busy": "2025-10-17T08:40:49.125367Z",
     "iopub.status.idle": "2025-10-17T08:40:49.130528Z",
     "shell.execute_reply": "2025-10-17T08:40:49.129798Z"
    },
    "papermill": {
     "duration": 0.010819,
     "end_time": "2025-10-17T08:40:49.131579",
     "exception": false,
     "start_time": "2025-10-17T08:40:49.120760",
     "status": "completed"
    },
    "tags": []
   },
   "outputs": [],
   "source": [
    "class DecoderLayer(nn.Module):\n",
    "    def __init__(self, d_model, num_heads, d_ff, dropout):\n",
    "        super(DecoderLayer, self).__init__()\n",
    "        self.self_attn = MultiHeadAttention(d_model, num_heads)\n",
    "        self.feed_forward = PositionWiseFeedForward(d_model, d_ff)\n",
    "        self.norm1 = nn.LayerNorm(d_model)\n",
    "        self.norm2 = nn.LayerNorm(d_model)\n",
    "        self.dropout = nn.Dropout(dropout)\n",
    "        \n",
    "    def forward(self, x, mask):\n",
    "        attn_output = self.self_attn(x, x, x, mask)\n",
    "        x = self.norm1(x + self.dropout(attn_output))\n",
    "        ff_output = self.feed_forward(x)\n",
    "        x = self.norm2(x + self.dropout(ff_output))\n",
    "        return x"
   ]
  },
  {
   "cell_type": "code",
   "execution_count": 12,
   "id": "be99b5df",
   "metadata": {
    "execution": {
     "iopub.execute_input": "2025-10-17T08:40:49.140806Z",
     "iopub.status.busy": "2025-10-17T08:40:49.140606Z",
     "iopub.status.idle": "2025-10-17T08:40:49.146703Z",
     "shell.execute_reply": "2025-10-17T08:40:49.145860Z"
    },
    "papermill": {
     "duration": 0.012026,
     "end_time": "2025-10-17T08:40:49.147732",
     "exception": false,
     "start_time": "2025-10-17T08:40:49.135706",
     "status": "completed"
    },
    "tags": []
   },
   "outputs": [],
   "source": [
    "class Transformer(nn.Module):\n",
    "    def __init__(self, tgt_vocab_size, d_model, num_heads, num_layers, d_ff, max_seq_length, dropout):\n",
    "        super(Transformer, self).__init__()\n",
    "        self.decoder_embedding = nn.Embedding(tgt_vocab_size, d_model)\n",
    "        self.positional_encoding = PositionalEncoding(d_model, max_seq_length)\n",
    "\n",
    "        self.decoder_layers = nn.ModuleList([DecoderLayer(d_model, num_heads, d_ff, dropout) for _ in range(num_layers)])\n",
    "\n",
    "        self.fc = nn.Linear(d_model, tgt_vocab_size)\n",
    "        self.dropout = nn.Dropout(dropout)\n",
    "\n",
    "    #function to generate look-ahead mask to allow for autoregressive decoding \n",
    "    def generate_mask(self, tgt):\n",
    "        tgt_mask = (tgt != 3).unsqueeze(1).unsqueeze(3) # sentencepiece pad_id = 3\n",
    "        seq_length = tgt.size(1)\n",
    "        nopeak_mask = (1 - torch.triu(torch.ones(1, seq_length, seq_length), diagonal=1)).bool().to(device)\n",
    "        tgt_mask = tgt_mask & nopeak_mask\n",
    "        return tgt_mask\n",
    "\n",
    "    def forward(self, tgt):\n",
    "        tgt_mask = self.generate_mask(tgt)\n",
    "        tgt_embedded = self.dropout(self.positional_encoding(self.decoder_embedding(tgt)))\n",
    "\n",
    "        dec_output = tgt_embedded\n",
    "        for dec_layer in self.decoder_layers:\n",
    "            dec_output = dec_layer(dec_output, tgt_mask)\n",
    "\n",
    "        output = self.fc(dec_output)\n",
    "        return output"
   ]
  },
  {
   "cell_type": "markdown",
   "id": "66a7ada6",
   "metadata": {
    "papermill": {
     "duration": 0.004081,
     "end_time": "2025-10-17T08:40:49.155999",
     "exception": false,
     "start_time": "2025-10-17T08:40:49.151918",
     "status": "completed"
    },
    "tags": []
   },
   "source": [
    "# Train model\n"
   ]
  },
  {
   "cell_type": "code",
   "execution_count": 13,
   "id": "2bfd2c33",
   "metadata": {
    "execution": {
     "iopub.execute_input": "2025-10-17T08:40:49.165387Z",
     "iopub.status.busy": "2025-10-17T08:40:49.165187Z",
     "iopub.status.idle": "2025-10-17T08:40:49.169212Z",
     "shell.execute_reply": "2025-10-17T08:40:49.168500Z"
    },
    "papermill": {
     "duration": 0.00987,
     "end_time": "2025-10-17T08:40:49.170275",
     "exception": false,
     "start_time": "2025-10-17T08:40:49.160405",
     "status": "completed"
    },
    "tags": []
   },
   "outputs": [],
   "source": [
    "####define constants across project######\n",
    "\n",
    "DIMENSIONS = 64\n",
    "DATASET = \"train\"\n",
    "DATASET_PERCENTAGE = 1\n",
    "VOCAB_SIZE = 8000\n",
    "NUM_OF_EPOCHS = 100\n",
    "LEARNING_RATE = 0.005\n",
    "BATCH_SIZE= 16\n",
    "NUM_HEADS=4\n",
    "NUM_LAYERS=1\n",
    "D_FF =  2048\n",
    "MAX_SEQ_LENGTH = 512\n",
    "DROPOUT = 0.1\n",
    "INPUT_SENTENCE_SIZE = 100000"
   ]
  },
  {
   "cell_type": "code",
   "execution_count": 14,
   "id": "5fe801c1",
   "metadata": {
    "execution": {
     "iopub.execute_input": "2025-10-17T08:40:49.180631Z",
     "iopub.status.busy": "2025-10-17T08:40:49.180434Z",
     "iopub.status.idle": "2025-10-17T08:40:49.186473Z",
     "shell.execute_reply": "2025-10-17T08:40:49.185626Z"
    },
    "papermill": {
     "duration": 0.013079,
     "end_time": "2025-10-17T08:40:49.187587",
     "exception": false,
     "start_time": "2025-10-17T08:40:49.174508",
     "status": "completed"
    },
    "tags": []
   },
   "outputs": [],
   "source": [
    "\n",
    "#run on gpu \n",
    "def getDevice():\n",
    "  is_cuda = torch.cuda.is_available()\n",
    "  return \"cuda:0\" if is_cuda else \"cpu\"\n",
    "\n",
    "#function to find latest epoch\n",
    "def find_latest_epoch_file(path='./'):\n",
    "    epoch_files = [f for f in os.listdir(path) if re.match(r'transformer_epoch_\\d+\\.pt', f)]\n",
    "    if epoch_files:\n",
    "        # Extracting epoch numbers from the files and finding the max\n",
    "        latest_epoch = max([int(f.split('_')[2].split('.')[0]) for f in epoch_files])\n",
    "        return latest_epoch, f\"./transformer_epoch_{latest_epoch}.pt\"\n",
    "    else:\n",
    "        return 0, None\n",
    "\n",
    "#function to load the latest epoch file if it exists\n",
    "def load_latest_checkpoint(model, path='./'):\n",
    "    latest_epoch, latest_file = find_latest_epoch_file(path)\n",
    "    if latest_file:\n",
    "        print(f\"Resuming training from epoch {latest_epoch+1}\")\n",
    "        model.load_state_dict(torch.load(latest_file, map_location=torch.device(getDevice())))\n",
    "    else:\n",
    "        print(\"No checkpoint found, starting from beginning\")\n",
    "    return latest_epoch"
   ]
  },
  {
   "cell_type": "code",
   "execution_count": 15,
   "id": "bd1c0821",
   "metadata": {
    "execution": {
     "iopub.execute_input": "2025-10-17T08:40:49.196689Z",
     "iopub.status.busy": "2025-10-17T08:40:49.196474Z",
     "iopub.status.idle": "2025-10-17T09:05:56.800165Z",
     "shell.execute_reply": "2025-10-17T09:05:56.799085Z"
    },
    "papermill": {
     "duration": 1507.609764,
     "end_time": "2025-10-17T09:05:56.801438",
     "exception": false,
     "start_time": "2025-10-17T08:40:49.191674",
     "status": "completed"
    },
    "tags": []
   },
   "outputs": [
    {
     "name": "stdout",
     "output_type": "stream",
     "text": [
      "Device = cuda:0\n"
     ]
    },
    {
     "name": "stderr",
     "output_type": "stream",
     "text": [
      "Epoch 1/100: 100%|██████████| 2500/2500 [00:16<00:00, 154.70batch/s]\n"
     ]
    },
    {
     "name": "stdout",
     "output_type": "stream",
     "text": [
      "Epoch 1/100, Loss: 6.4907613386154175\n"
     ]
    },
    {
     "name": "stderr",
     "output_type": "stream",
     "text": [
      "Epoch 2/100: 100%|██████████| 2500/2500 [00:15<00:00, 165.38batch/s]\n"
     ]
    },
    {
     "name": "stdout",
     "output_type": "stream",
     "text": [
      "Epoch 2/100, Loss: 5.602468134307862\n"
     ]
    },
    {
     "name": "stderr",
     "output_type": "stream",
     "text": [
      "Epoch 3/100: 100%|██████████| 2500/2500 [00:15<00:00, 164.84batch/s]\n"
     ]
    },
    {
     "name": "stdout",
     "output_type": "stream",
     "text": [
      "Epoch 3/100, Loss: 5.464146460151673\n"
     ]
    },
    {
     "name": "stderr",
     "output_type": "stream",
     "text": [
      "Epoch 4/100: 100%|██████████| 2500/2500 [00:15<00:00, 165.15batch/s]\n"
     ]
    },
    {
     "name": "stdout",
     "output_type": "stream",
     "text": [
      "Epoch 4/100, Loss: 5.379345463562012\n"
     ]
    },
    {
     "name": "stderr",
     "output_type": "stream",
     "text": [
      "Epoch 5/100: 100%|██████████| 2500/2500 [00:14<00:00, 166.96batch/s]\n"
     ]
    },
    {
     "name": "stdout",
     "output_type": "stream",
     "text": [
      "Epoch 5/100, Loss: 5.313296541690827\n"
     ]
    },
    {
     "name": "stderr",
     "output_type": "stream",
     "text": [
      "Epoch 6/100: 100%|██████████| 2500/2500 [00:14<00:00, 167.26batch/s]\n"
     ]
    },
    {
     "name": "stdout",
     "output_type": "stream",
     "text": [
      "Epoch 6/100, Loss: 5.264464497470856\n"
     ]
    },
    {
     "name": "stderr",
     "output_type": "stream",
     "text": [
      "Epoch 7/100: 100%|██████████| 2500/2500 [00:14<00:00, 168.89batch/s]\n"
     ]
    },
    {
     "name": "stdout",
     "output_type": "stream",
     "text": [
      "Epoch 7/100, Loss: 5.226444433116913\n"
     ]
    },
    {
     "name": "stderr",
     "output_type": "stream",
     "text": [
      "Epoch 8/100: 100%|██████████| 2500/2500 [00:15<00:00, 165.61batch/s]\n"
     ]
    },
    {
     "name": "stdout",
     "output_type": "stream",
     "text": [
      "Epoch 8/100, Loss: 5.1922862080574035\n"
     ]
    },
    {
     "name": "stderr",
     "output_type": "stream",
     "text": [
      "Epoch 9/100: 100%|██████████| 2500/2500 [00:15<00:00, 165.18batch/s]\n"
     ]
    },
    {
     "name": "stdout",
     "output_type": "stream",
     "text": [
      "Epoch 9/100, Loss: 5.166414796161652\n"
     ]
    },
    {
     "name": "stderr",
     "output_type": "stream",
     "text": [
      "Epoch 10/100: 100%|██████████| 2500/2500 [00:14<00:00, 168.78batch/s]\n"
     ]
    },
    {
     "name": "stdout",
     "output_type": "stream",
     "text": [
      "Epoch 10/100, Loss: 5.145179809188843\n"
     ]
    },
    {
     "name": "stderr",
     "output_type": "stream",
     "text": [
      "Epoch 11/100: 100%|██████████| 2500/2500 [00:14<00:00, 167.40batch/s]\n"
     ]
    },
    {
     "name": "stdout",
     "output_type": "stream",
     "text": [
      "Epoch 11/100, Loss: 5.124935648632049\n"
     ]
    },
    {
     "name": "stderr",
     "output_type": "stream",
     "text": [
      "Epoch 12/100: 100%|██████████| 2500/2500 [00:14<00:00, 168.01batch/s]\n"
     ]
    },
    {
     "name": "stdout",
     "output_type": "stream",
     "text": [
      "Epoch 12/100, Loss: 5.108396948051452\n"
     ]
    },
    {
     "name": "stderr",
     "output_type": "stream",
     "text": [
      "Epoch 13/100: 100%|██████████| 2500/2500 [00:14<00:00, 167.05batch/s]\n"
     ]
    },
    {
     "name": "stdout",
     "output_type": "stream",
     "text": [
      "Epoch 13/100, Loss: 5.089454315567017\n"
     ]
    },
    {
     "name": "stderr",
     "output_type": "stream",
     "text": [
      "Epoch 14/100: 100%|██████████| 2500/2500 [00:14<00:00, 169.30batch/s]\n"
     ]
    },
    {
     "name": "stdout",
     "output_type": "stream",
     "text": [
      "Epoch 14/100, Loss: 5.076739964103699\n"
     ]
    },
    {
     "name": "stderr",
     "output_type": "stream",
     "text": [
      "Epoch 15/100: 100%|██████████| 2500/2500 [00:14<00:00, 168.78batch/s]\n"
     ]
    },
    {
     "name": "stdout",
     "output_type": "stream",
     "text": [
      "Epoch 15/100, Loss: 5.063729370689392\n"
     ]
    },
    {
     "name": "stderr",
     "output_type": "stream",
     "text": [
      "Epoch 16/100: 100%|██████████| 2500/2500 [00:15<00:00, 163.94batch/s]\n"
     ]
    },
    {
     "name": "stdout",
     "output_type": "stream",
     "text": [
      "Epoch 16/100, Loss: 5.053423874473572\n"
     ]
    },
    {
     "name": "stderr",
     "output_type": "stream",
     "text": [
      "Epoch 17/100: 100%|██████████| 2500/2500 [00:14<00:00, 167.53batch/s]\n"
     ]
    },
    {
     "name": "stdout",
     "output_type": "stream",
     "text": [
      "Epoch 17/100, Loss: 5.038590624904632\n"
     ]
    },
    {
     "name": "stderr",
     "output_type": "stream",
     "text": [
      "Epoch 18/100: 100%|██████████| 2500/2500 [00:15<00:00, 165.34batch/s]\n"
     ]
    },
    {
     "name": "stdout",
     "output_type": "stream",
     "text": [
      "Epoch 18/100, Loss: 5.029842113208771\n"
     ]
    },
    {
     "name": "stderr",
     "output_type": "stream",
     "text": [
      "Epoch 19/100: 100%|██████████| 2500/2500 [00:14<00:00, 167.13batch/s]\n"
     ]
    },
    {
     "name": "stdout",
     "output_type": "stream",
     "text": [
      "Epoch 19/100, Loss: 5.0249458683013914\n"
     ]
    },
    {
     "name": "stderr",
     "output_type": "stream",
     "text": [
      "Epoch 20/100: 100%|██████████| 2500/2500 [00:15<00:00, 166.43batch/s]\n"
     ]
    },
    {
     "name": "stdout",
     "output_type": "stream",
     "text": [
      "Epoch 20/100, Loss: 5.014156785774231\n"
     ]
    },
    {
     "name": "stderr",
     "output_type": "stream",
     "text": [
      "Epoch 21/100: 100%|██████████| 2500/2500 [00:15<00:00, 162.62batch/s]\n"
     ]
    },
    {
     "name": "stdout",
     "output_type": "stream",
     "text": [
      "Epoch 21/100, Loss: 5.006104911231994\n"
     ]
    },
    {
     "name": "stderr",
     "output_type": "stream",
     "text": [
      "Epoch 22/100: 100%|██████████| 2500/2500 [00:15<00:00, 165.89batch/s]\n"
     ]
    },
    {
     "name": "stdout",
     "output_type": "stream",
     "text": [
      "Epoch 22/100, Loss: 4.996459922981262\n"
     ]
    },
    {
     "name": "stderr",
     "output_type": "stream",
     "text": [
      "Epoch 23/100: 100%|██████████| 2500/2500 [00:14<00:00, 167.07batch/s]\n"
     ]
    },
    {
     "name": "stdout",
     "output_type": "stream",
     "text": [
      "Epoch 23/100, Loss: 4.990102435970306\n"
     ]
    },
    {
     "name": "stderr",
     "output_type": "stream",
     "text": [
      "Epoch 24/100: 100%|██████████| 2500/2500 [00:14<00:00, 166.78batch/s]\n"
     ]
    },
    {
     "name": "stdout",
     "output_type": "stream",
     "text": [
      "Epoch 24/100, Loss: 4.984401873588562\n"
     ]
    },
    {
     "name": "stderr",
     "output_type": "stream",
     "text": [
      "Epoch 25/100: 100%|██████████| 2500/2500 [00:14<00:00, 168.40batch/s]\n"
     ]
    },
    {
     "name": "stdout",
     "output_type": "stream",
     "text": [
      "Epoch 25/100, Loss: 4.97209411611557\n"
     ]
    },
    {
     "name": "stderr",
     "output_type": "stream",
     "text": [
      "Epoch 26/100: 100%|██████████| 2500/2500 [00:14<00:00, 167.49batch/s]\n"
     ]
    },
    {
     "name": "stdout",
     "output_type": "stream",
     "text": [
      "Epoch 26/100, Loss: 4.9658076934814455\n"
     ]
    },
    {
     "name": "stderr",
     "output_type": "stream",
     "text": [
      "Epoch 27/100: 100%|██████████| 2500/2500 [00:15<00:00, 165.89batch/s]\n"
     ]
    },
    {
     "name": "stdout",
     "output_type": "stream",
     "text": [
      "Epoch 27/100, Loss: 4.958009644317627\n"
     ]
    },
    {
     "name": "stderr",
     "output_type": "stream",
     "text": [
      "Epoch 28/100: 100%|██████████| 2500/2500 [00:14<00:00, 168.58batch/s]\n"
     ]
    },
    {
     "name": "stdout",
     "output_type": "stream",
     "text": [
      "Epoch 28/100, Loss: 4.950210235595703\n"
     ]
    },
    {
     "name": "stderr",
     "output_type": "stream",
     "text": [
      "Epoch 29/100: 100%|██████████| 2500/2500 [00:14<00:00, 166.91batch/s]\n"
     ]
    },
    {
     "name": "stdout",
     "output_type": "stream",
     "text": [
      "Epoch 29/100, Loss: 4.942711063575745\n"
     ]
    },
    {
     "name": "stderr",
     "output_type": "stream",
     "text": [
      "Epoch 30/100: 100%|██████████| 2500/2500 [00:15<00:00, 165.67batch/s]\n"
     ]
    },
    {
     "name": "stdout",
     "output_type": "stream",
     "text": [
      "Epoch 30/100, Loss: 4.936476554107666\n"
     ]
    },
    {
     "name": "stderr",
     "output_type": "stream",
     "text": [
      "Epoch 31/100: 100%|██████████| 2500/2500 [00:14<00:00, 168.53batch/s]\n"
     ]
    },
    {
     "name": "stdout",
     "output_type": "stream",
     "text": [
      "Epoch 31/100, Loss: 4.932857426071167\n"
     ]
    },
    {
     "name": "stderr",
     "output_type": "stream",
     "text": [
      "Epoch 32/100: 100%|██████████| 2500/2500 [00:14<00:00, 167.77batch/s]\n"
     ]
    },
    {
     "name": "stdout",
     "output_type": "stream",
     "text": [
      "Epoch 32/100, Loss: 4.925640077114105\n"
     ]
    },
    {
     "name": "stderr",
     "output_type": "stream",
     "text": [
      "Epoch 33/100: 100%|██████████| 2500/2500 [00:15<00:00, 165.38batch/s]\n"
     ]
    },
    {
     "name": "stdout",
     "output_type": "stream",
     "text": [
      "Epoch 33/100, Loss: 4.92064830789566\n"
     ]
    },
    {
     "name": "stderr",
     "output_type": "stream",
     "text": [
      "Epoch 34/100: 100%|██████████| 2500/2500 [00:14<00:00, 167.65batch/s]\n"
     ]
    },
    {
     "name": "stdout",
     "output_type": "stream",
     "text": [
      "Epoch 34/100, Loss: 4.913227581501007\n"
     ]
    },
    {
     "name": "stderr",
     "output_type": "stream",
     "text": [
      "Epoch 35/100: 100%|██████████| 2500/2500 [00:14<00:00, 168.42batch/s]\n"
     ]
    },
    {
     "name": "stdout",
     "output_type": "stream",
     "text": [
      "Epoch 35/100, Loss: 4.908433297538758\n"
     ]
    },
    {
     "name": "stderr",
     "output_type": "stream",
     "text": [
      "Epoch 36/100: 100%|██████████| 2500/2500 [00:14<00:00, 168.44batch/s]\n"
     ]
    },
    {
     "name": "stdout",
     "output_type": "stream",
     "text": [
      "Epoch 36/100, Loss: 4.903354203701019\n"
     ]
    },
    {
     "name": "stderr",
     "output_type": "stream",
     "text": [
      "Epoch 37/100: 100%|██████████| 2500/2500 [00:14<00:00, 169.39batch/s]\n"
     ]
    },
    {
     "name": "stdout",
     "output_type": "stream",
     "text": [
      "Epoch 37/100, Loss: 4.8992122128486635\n"
     ]
    },
    {
     "name": "stderr",
     "output_type": "stream",
     "text": [
      "Epoch 38/100: 100%|██████████| 2500/2500 [00:14<00:00, 166.90batch/s]\n"
     ]
    },
    {
     "name": "stdout",
     "output_type": "stream",
     "text": [
      "Epoch 38/100, Loss: 4.892876208305359\n"
     ]
    },
    {
     "name": "stderr",
     "output_type": "stream",
     "text": [
      "Epoch 39/100: 100%|██████████| 2500/2500 [00:14<00:00, 167.77batch/s]\n"
     ]
    },
    {
     "name": "stdout",
     "output_type": "stream",
     "text": [
      "Epoch 39/100, Loss: 4.889693330192566\n"
     ]
    },
    {
     "name": "stderr",
     "output_type": "stream",
     "text": [
      "Epoch 40/100: 100%|██████████| 2500/2500 [00:15<00:00, 166.35batch/s]\n"
     ]
    },
    {
     "name": "stdout",
     "output_type": "stream",
     "text": [
      "Epoch 40/100, Loss: 4.885829689598084\n"
     ]
    },
    {
     "name": "stderr",
     "output_type": "stream",
     "text": [
      "Epoch 41/100: 100%|██████████| 2500/2500 [00:14<00:00, 168.60batch/s]\n"
     ]
    },
    {
     "name": "stdout",
     "output_type": "stream",
     "text": [
      "Epoch 41/100, Loss: 4.882037014770508\n"
     ]
    },
    {
     "name": "stderr",
     "output_type": "stream",
     "text": [
      "Epoch 42/100: 100%|██████████| 2500/2500 [00:15<00:00, 165.45batch/s]\n"
     ]
    },
    {
     "name": "stdout",
     "output_type": "stream",
     "text": [
      "Epoch 42/100, Loss: 4.882475939941406\n"
     ]
    },
    {
     "name": "stderr",
     "output_type": "stream",
     "text": [
      "Epoch 43/100: 100%|██████████| 2500/2500 [00:15<00:00, 163.79batch/s]\n"
     ]
    },
    {
     "name": "stdout",
     "output_type": "stream",
     "text": [
      "Epoch 43/100, Loss: 4.87653163356781\n"
     ]
    },
    {
     "name": "stderr",
     "output_type": "stream",
     "text": [
      "Epoch 44/100: 100%|██████████| 2500/2500 [00:14<00:00, 167.40batch/s]\n"
     ]
    },
    {
     "name": "stdout",
     "output_type": "stream",
     "text": [
      "Epoch 44/100, Loss: 4.873552209377289\n"
     ]
    },
    {
     "name": "stderr",
     "output_type": "stream",
     "text": [
      "Epoch 45/100: 100%|██████████| 2500/2500 [00:15<00:00, 165.16batch/s]\n"
     ]
    },
    {
     "name": "stdout",
     "output_type": "stream",
     "text": [
      "Epoch 45/100, Loss: 4.8687593083381655\n"
     ]
    },
    {
     "name": "stderr",
     "output_type": "stream",
     "text": [
      "Epoch 46/100: 100%|██████████| 2500/2500 [00:14<00:00, 166.96batch/s]\n"
     ]
    },
    {
     "name": "stdout",
     "output_type": "stream",
     "text": [
      "Epoch 46/100, Loss: 4.86837989320755\n"
     ]
    },
    {
     "name": "stderr",
     "output_type": "stream",
     "text": [
      "Epoch 47/100: 100%|██████████| 2500/2500 [00:15<00:00, 166.10batch/s]\n"
     ]
    },
    {
     "name": "stdout",
     "output_type": "stream",
     "text": [
      "Epoch 47/100, Loss: 4.866215673446655\n"
     ]
    },
    {
     "name": "stderr",
     "output_type": "stream",
     "text": [
      "Epoch 48/100: 100%|██████████| 2500/2500 [00:14<00:00, 167.77batch/s]\n"
     ]
    },
    {
     "name": "stdout",
     "output_type": "stream",
     "text": [
      "Epoch 48/100, Loss: 4.86330034828186\n"
     ]
    },
    {
     "name": "stderr",
     "output_type": "stream",
     "text": [
      "Epoch 49/100: 100%|██████████| 2500/2500 [00:15<00:00, 166.54batch/s]\n"
     ]
    },
    {
     "name": "stdout",
     "output_type": "stream",
     "text": [
      "Epoch 49/100, Loss: 4.860872428417206\n"
     ]
    },
    {
     "name": "stderr",
     "output_type": "stream",
     "text": [
      "Epoch 50/100: 100%|██████████| 2500/2500 [00:14<00:00, 168.33batch/s]\n"
     ]
    },
    {
     "name": "stdout",
     "output_type": "stream",
     "text": [
      "Epoch 50/100, Loss: 4.860247629928589\n"
     ]
    },
    {
     "name": "stderr",
     "output_type": "stream",
     "text": [
      "Epoch 51/100: 100%|██████████| 2500/2500 [00:14<00:00, 168.45batch/s]\n"
     ]
    },
    {
     "name": "stdout",
     "output_type": "stream",
     "text": [
      "Epoch 51/100, Loss: 4.858152048206329\n"
     ]
    },
    {
     "name": "stderr",
     "output_type": "stream",
     "text": [
      "Epoch 52/100: 100%|██████████| 2500/2500 [00:14<00:00, 167.70batch/s]\n"
     ]
    },
    {
     "name": "stdout",
     "output_type": "stream",
     "text": [
      "Epoch 52/100, Loss: 4.85367345123291\n"
     ]
    },
    {
     "name": "stderr",
     "output_type": "stream",
     "text": [
      "Epoch 53/100: 100%|██████████| 2500/2500 [00:14<00:00, 166.81batch/s]\n"
     ]
    },
    {
     "name": "stdout",
     "output_type": "stream",
     "text": [
      "Epoch 53/100, Loss: 4.853688846874237\n"
     ]
    },
    {
     "name": "stderr",
     "output_type": "stream",
     "text": [
      "Epoch 54/100: 100%|██████████| 2500/2500 [00:14<00:00, 168.06batch/s]\n"
     ]
    },
    {
     "name": "stdout",
     "output_type": "stream",
     "text": [
      "Epoch 54/100, Loss: 4.851578966999054\n"
     ]
    },
    {
     "name": "stderr",
     "output_type": "stream",
     "text": [
      "Epoch 55/100: 100%|██████████| 2500/2500 [00:14<00:00, 168.22batch/s]\n"
     ]
    },
    {
     "name": "stdout",
     "output_type": "stream",
     "text": [
      "Epoch 55/100, Loss: 4.847841150760651\n"
     ]
    },
    {
     "name": "stderr",
     "output_type": "stream",
     "text": [
      "Epoch 56/100: 100%|██████████| 2500/2500 [00:14<00:00, 167.75batch/s]\n"
     ]
    },
    {
     "name": "stdout",
     "output_type": "stream",
     "text": [
      "Epoch 56/100, Loss: 4.845991917514801\n"
     ]
    },
    {
     "name": "stderr",
     "output_type": "stream",
     "text": [
      "Epoch 57/100: 100%|██████████| 2500/2500 [00:15<00:00, 164.79batch/s]\n"
     ]
    },
    {
     "name": "stdout",
     "output_type": "stream",
     "text": [
      "Epoch 57/100, Loss: 4.844288680839538\n"
     ]
    },
    {
     "name": "stderr",
     "output_type": "stream",
     "text": [
      "Epoch 58/100: 100%|██████████| 2500/2500 [00:15<00:00, 166.37batch/s]\n"
     ]
    },
    {
     "name": "stdout",
     "output_type": "stream",
     "text": [
      "Epoch 58/100, Loss: 4.839144359874726\n"
     ]
    },
    {
     "name": "stderr",
     "output_type": "stream",
     "text": [
      "Epoch 59/100: 100%|██████████| 2500/2500 [00:15<00:00, 162.33batch/s]\n"
     ]
    },
    {
     "name": "stdout",
     "output_type": "stream",
     "text": [
      "Epoch 59/100, Loss: 4.837457181739807\n"
     ]
    },
    {
     "name": "stderr",
     "output_type": "stream",
     "text": [
      "Epoch 60/100: 100%|██████████| 2500/2500 [00:14<00:00, 167.03batch/s]\n"
     ]
    },
    {
     "name": "stdout",
     "output_type": "stream",
     "text": [
      "Epoch 60/100, Loss: 4.832370100307465\n"
     ]
    },
    {
     "name": "stderr",
     "output_type": "stream",
     "text": [
      "Epoch 61/100: 100%|██████████| 2500/2500 [00:15<00:00, 162.91batch/s]\n"
     ]
    },
    {
     "name": "stdout",
     "output_type": "stream",
     "text": [
      "Epoch 61/100, Loss: 4.8298901969909664\n"
     ]
    },
    {
     "name": "stderr",
     "output_type": "stream",
     "text": [
      "Epoch 62/100: 100%|██████████| 2500/2500 [00:14<00:00, 167.23batch/s]\n"
     ]
    },
    {
     "name": "stdout",
     "output_type": "stream",
     "text": [
      "Epoch 62/100, Loss: 4.828798954677581\n"
     ]
    },
    {
     "name": "stderr",
     "output_type": "stream",
     "text": [
      "Epoch 63/100: 100%|██████████| 2500/2500 [00:14<00:00, 169.05batch/s]\n"
     ]
    },
    {
     "name": "stdout",
     "output_type": "stream",
     "text": [
      "Epoch 63/100, Loss: 4.82811969833374\n"
     ]
    },
    {
     "name": "stderr",
     "output_type": "stream",
     "text": [
      "Epoch 64/100: 100%|██████████| 2500/2500 [00:14<00:00, 167.72batch/s]\n"
     ]
    },
    {
     "name": "stdout",
     "output_type": "stream",
     "text": [
      "Epoch 64/100, Loss: 4.826485701942444\n"
     ]
    },
    {
     "name": "stderr",
     "output_type": "stream",
     "text": [
      "Epoch 65/100: 100%|██████████| 2500/2500 [00:15<00:00, 165.32batch/s]\n"
     ]
    },
    {
     "name": "stdout",
     "output_type": "stream",
     "text": [
      "Epoch 65/100, Loss: 4.822965472507477\n"
     ]
    },
    {
     "name": "stderr",
     "output_type": "stream",
     "text": [
      "Epoch 66/100: 100%|██████████| 2500/2500 [00:15<00:00, 164.75batch/s]\n"
     ]
    },
    {
     "name": "stdout",
     "output_type": "stream",
     "text": [
      "Epoch 66/100, Loss: 4.8195434619903565\n"
     ]
    },
    {
     "name": "stderr",
     "output_type": "stream",
     "text": [
      "Epoch 67/100: 100%|██████████| 2500/2500 [00:15<00:00, 165.88batch/s]\n"
     ]
    },
    {
     "name": "stdout",
     "output_type": "stream",
     "text": [
      "Epoch 67/100, Loss: 4.816717303848266\n"
     ]
    },
    {
     "name": "stderr",
     "output_type": "stream",
     "text": [
      "Epoch 68/100: 100%|██████████| 2500/2500 [00:14<00:00, 167.60batch/s]\n"
     ]
    },
    {
     "name": "stdout",
     "output_type": "stream",
     "text": [
      "Epoch 68/100, Loss: 4.81610318107605\n"
     ]
    },
    {
     "name": "stderr",
     "output_type": "stream",
     "text": [
      "Epoch 69/100: 100%|██████████| 2500/2500 [00:15<00:00, 163.05batch/s]\n"
     ]
    },
    {
     "name": "stdout",
     "output_type": "stream",
     "text": [
      "Epoch 69/100, Loss: 4.812074776363373\n"
     ]
    },
    {
     "name": "stderr",
     "output_type": "stream",
     "text": [
      "Epoch 70/100: 100%|██████████| 2500/2500 [00:14<00:00, 167.72batch/s]\n"
     ]
    },
    {
     "name": "stdout",
     "output_type": "stream",
     "text": [
      "Epoch 70/100, Loss: 4.813260789966583\n"
     ]
    },
    {
     "name": "stderr",
     "output_type": "stream",
     "text": [
      "Epoch 71/100: 100%|██████████| 2500/2500 [00:14<00:00, 168.20batch/s]\n"
     ]
    },
    {
     "name": "stdout",
     "output_type": "stream",
     "text": [
      "Epoch 71/100, Loss: 4.8060898976325985\n"
     ]
    },
    {
     "name": "stderr",
     "output_type": "stream",
     "text": [
      "Epoch 72/100: 100%|██████████| 2500/2500 [00:15<00:00, 165.87batch/s]\n"
     ]
    },
    {
     "name": "stdout",
     "output_type": "stream",
     "text": [
      "Epoch 72/100, Loss: 4.8054229727745055\n"
     ]
    },
    {
     "name": "stderr",
     "output_type": "stream",
     "text": [
      "Epoch 73/100: 100%|██████████| 2500/2500 [00:15<00:00, 164.71batch/s]\n"
     ]
    },
    {
     "name": "stdout",
     "output_type": "stream",
     "text": [
      "Epoch 73/100, Loss: 4.805174408149719\n"
     ]
    },
    {
     "name": "stderr",
     "output_type": "stream",
     "text": [
      "Epoch 74/100: 100%|██████████| 2500/2500 [00:14<00:00, 168.45batch/s]\n"
     ]
    },
    {
     "name": "stdout",
     "output_type": "stream",
     "text": [
      "Epoch 74/100, Loss: 4.800145466327667\n"
     ]
    },
    {
     "name": "stderr",
     "output_type": "stream",
     "text": [
      "Epoch 75/100: 100%|██████████| 2500/2500 [00:14<00:00, 168.24batch/s]\n"
     ]
    },
    {
     "name": "stdout",
     "output_type": "stream",
     "text": [
      "Epoch 75/100, Loss: 4.799695800876617\n"
     ]
    },
    {
     "name": "stderr",
     "output_type": "stream",
     "text": [
      "Epoch 76/100: 100%|██████████| 2500/2500 [00:15<00:00, 164.77batch/s]\n"
     ]
    },
    {
     "name": "stdout",
     "output_type": "stream",
     "text": [
      "Epoch 76/100, Loss: 4.799083662414551\n"
     ]
    },
    {
     "name": "stderr",
     "output_type": "stream",
     "text": [
      "Epoch 77/100: 100%|██████████| 2500/2500 [00:15<00:00, 166.50batch/s]\n"
     ]
    },
    {
     "name": "stdout",
     "output_type": "stream",
     "text": [
      "Epoch 77/100, Loss: 4.795402353477478\n"
     ]
    },
    {
     "name": "stderr",
     "output_type": "stream",
     "text": [
      "Epoch 78/100: 100%|██████████| 2500/2500 [00:14<00:00, 168.46batch/s]\n"
     ]
    },
    {
     "name": "stdout",
     "output_type": "stream",
     "text": [
      "Epoch 78/100, Loss: 4.796173832035064\n"
     ]
    },
    {
     "name": "stderr",
     "output_type": "stream",
     "text": [
      "Epoch 79/100: 100%|██████████| 2500/2500 [00:14<00:00, 166.68batch/s]\n"
     ]
    },
    {
     "name": "stdout",
     "output_type": "stream",
     "text": [
      "Epoch 79/100, Loss: 4.791892127037048\n"
     ]
    },
    {
     "name": "stderr",
     "output_type": "stream",
     "text": [
      "Epoch 80/100: 100%|██████████| 2500/2500 [00:15<00:00, 164.58batch/s]\n"
     ]
    },
    {
     "name": "stdout",
     "output_type": "stream",
     "text": [
      "Epoch 80/100, Loss: 4.791772122955322\n"
     ]
    },
    {
     "name": "stderr",
     "output_type": "stream",
     "text": [
      "Epoch 81/100: 100%|██████████| 2500/2500 [00:14<00:00, 167.36batch/s]\n"
     ]
    },
    {
     "name": "stdout",
     "output_type": "stream",
     "text": [
      "Epoch 81/100, Loss: 4.789695254421234\n"
     ]
    },
    {
     "name": "stderr",
     "output_type": "stream",
     "text": [
      "Epoch 82/100: 100%|██████████| 2500/2500 [00:14<00:00, 168.80batch/s]\n"
     ]
    },
    {
     "name": "stdout",
     "output_type": "stream",
     "text": [
      "Epoch 82/100, Loss: 4.7867449262619015\n"
     ]
    },
    {
     "name": "stderr",
     "output_type": "stream",
     "text": [
      "Epoch 83/100: 100%|██████████| 2500/2500 [00:15<00:00, 161.59batch/s]\n"
     ]
    },
    {
     "name": "stdout",
     "output_type": "stream",
     "text": [
      "Epoch 83/100, Loss: 4.788256359004975\n"
     ]
    },
    {
     "name": "stderr",
     "output_type": "stream",
     "text": [
      "Epoch 84/100: 100%|██████████| 2500/2500 [00:15<00:00, 164.46batch/s]\n"
     ]
    },
    {
     "name": "stdout",
     "output_type": "stream",
     "text": [
      "Epoch 84/100, Loss: 4.785131950950623\n"
     ]
    },
    {
     "name": "stderr",
     "output_type": "stream",
     "text": [
      "Epoch 85/100: 100%|██████████| 2500/2500 [00:15<00:00, 164.75batch/s]\n"
     ]
    },
    {
     "name": "stdout",
     "output_type": "stream",
     "text": [
      "Epoch 85/100, Loss: 4.78343588809967\n"
     ]
    },
    {
     "name": "stderr",
     "output_type": "stream",
     "text": [
      "Epoch 86/100: 100%|██████████| 2500/2500 [00:15<00:00, 164.85batch/s]\n"
     ]
    },
    {
     "name": "stdout",
     "output_type": "stream",
     "text": [
      "Epoch 86/100, Loss: 4.783589002704621\n"
     ]
    },
    {
     "name": "stderr",
     "output_type": "stream",
     "text": [
      "Epoch 87/100: 100%|██████████| 2500/2500 [00:15<00:00, 162.46batch/s]\n"
     ]
    },
    {
     "name": "stdout",
     "output_type": "stream",
     "text": [
      "Epoch 87/100, Loss: 4.781925857162475\n"
     ]
    },
    {
     "name": "stderr",
     "output_type": "stream",
     "text": [
      "Epoch 88/100: 100%|██████████| 2500/2500 [00:14<00:00, 167.49batch/s]\n"
     ]
    },
    {
     "name": "stdout",
     "output_type": "stream",
     "text": [
      "Epoch 88/100, Loss: 4.77997910270691\n"
     ]
    },
    {
     "name": "stderr",
     "output_type": "stream",
     "text": [
      "Epoch 89/100: 100%|██████████| 2500/2500 [00:14<00:00, 166.89batch/s]\n"
     ]
    },
    {
     "name": "stdout",
     "output_type": "stream",
     "text": [
      "Epoch 89/100, Loss: 4.780307880210876\n"
     ]
    },
    {
     "name": "stderr",
     "output_type": "stream",
     "text": [
      "Epoch 90/100: 100%|██████████| 2500/2500 [00:14<00:00, 169.60batch/s]\n"
     ]
    },
    {
     "name": "stdout",
     "output_type": "stream",
     "text": [
      "Epoch 90/100, Loss: 4.7809762424469\n"
     ]
    },
    {
     "name": "stderr",
     "output_type": "stream",
     "text": [
      "Epoch 91/100: 100%|██████████| 2500/2500 [00:15<00:00, 164.41batch/s]\n"
     ]
    },
    {
     "name": "stdout",
     "output_type": "stream",
     "text": [
      "Epoch 91/100, Loss: 4.778331746768951\n"
     ]
    },
    {
     "name": "stderr",
     "output_type": "stream",
     "text": [
      "Epoch 92/100: 100%|██████████| 2500/2500 [00:14<00:00, 171.03batch/s]\n"
     ]
    },
    {
     "name": "stdout",
     "output_type": "stream",
     "text": [
      "Epoch 92/100, Loss: 4.777836310005188\n"
     ]
    },
    {
     "name": "stderr",
     "output_type": "stream",
     "text": [
      "Epoch 93/100: 100%|██████████| 2500/2500 [00:15<00:00, 166.13batch/s]\n"
     ]
    },
    {
     "name": "stdout",
     "output_type": "stream",
     "text": [
      "Epoch 93/100, Loss: 4.777773439121247\n"
     ]
    },
    {
     "name": "stderr",
     "output_type": "stream",
     "text": [
      "Epoch 94/100: 100%|██████████| 2500/2500 [00:14<00:00, 167.79batch/s]\n"
     ]
    },
    {
     "name": "stdout",
     "output_type": "stream",
     "text": [
      "Epoch 94/100, Loss: 4.777365462398529\n"
     ]
    },
    {
     "name": "stderr",
     "output_type": "stream",
     "text": [
      "Epoch 95/100: 100%|██████████| 2500/2500 [00:14<00:00, 168.65batch/s]\n"
     ]
    },
    {
     "name": "stdout",
     "output_type": "stream",
     "text": [
      "Epoch 95/100, Loss: 4.779969942951203\n"
     ]
    },
    {
     "name": "stderr",
     "output_type": "stream",
     "text": [
      "Epoch 96/100: 100%|██████████| 2500/2500 [00:14<00:00, 167.41batch/s]\n"
     ]
    },
    {
     "name": "stdout",
     "output_type": "stream",
     "text": [
      "Epoch 96/100, Loss: 4.7779397121429446\n"
     ]
    },
    {
     "name": "stderr",
     "output_type": "stream",
     "text": [
      "Epoch 97/100: 100%|██████████| 2500/2500 [00:15<00:00, 165.33batch/s]\n"
     ]
    },
    {
     "name": "stdout",
     "output_type": "stream",
     "text": [
      "Epoch 97/100, Loss: 4.779223730754852\n"
     ]
    },
    {
     "name": "stderr",
     "output_type": "stream",
     "text": [
      "Epoch 98/100: 100%|██████████| 2500/2500 [00:14<00:00, 167.01batch/s]\n"
     ]
    },
    {
     "name": "stdout",
     "output_type": "stream",
     "text": [
      "Epoch 98/100, Loss: 4.780716458702088\n"
     ]
    },
    {
     "name": "stderr",
     "output_type": "stream",
     "text": [
      "Epoch 99/100: 100%|██████████| 2500/2500 [00:14<00:00, 168.11batch/s]\n"
     ]
    },
    {
     "name": "stdout",
     "output_type": "stream",
     "text": [
      "Epoch 99/100, Loss: 4.779374151706696\n"
     ]
    },
    {
     "name": "stderr",
     "output_type": "stream",
     "text": [
      "Epoch 100/100: 100%|██████████| 2500/2500 [00:14<00:00, 167.12batch/s]"
     ]
    },
    {
     "name": "stdout",
     "output_type": "stream",
     "text": [
      "Epoch 100/100, Loss: 4.77840571975708\n"
     ]
    },
    {
     "name": "stderr",
     "output_type": "stream",
     "text": [
      "\n"
     ]
    }
   ],
   "source": [
    "\n",
    "device = getDevice()\n",
    "print(f\"Device = {device}\")\n",
    "\n",
    "#load dataset\n",
    "dataset = TinyShakespeareData(max_seq_length=1200)\n",
    "# ds = dataset.TinyStoriesData(\"roneneldan/TinyStories\", f\"train[:{DATASET_PERCENTAGE}%]\", MAX_SEQ_LENGTH)\n",
    "dl = torch.utils.data.DataLoader(dataset, batch_size=BATCH_SIZE, shuffle=True, collate_fn=dataset.collate_function)\n",
    "\n",
    "# instantiate transformer and define loss function\n",
    "transformer = Transformer(VOCAB_SIZE, DIMENSIONS, NUM_HEADS, NUM_LAYERS, D_FF, MAX_SEQ_LENGTH, DROPOUT).to(device)\n",
    "criterion = nn.CrossEntropyLoss(ignore_index=3) # sentencepiece pad_id = 3\n",
    "optimizer = optim.Adam(transformer.parameters(), lr=5e-5, betas=(0.9, 0.98), eps=1e-9)\n",
    "\n",
    "transformer.train()\n",
    "\n",
    "# start_epoch = load_latest_checkpoint(transformer)\n",
    "start_epoch = 0\n",
    "\n",
    "#define transformer training loop\n",
    "for epoch in range(start_epoch, NUM_OF_EPOCHS):\n",
    "  total_loss = 0\n",
    "  for tgt_data in tqdm.tqdm(dl, desc=f\"Epoch {epoch+1}/{NUM_OF_EPOCHS}\", unit=\"batch\"):\n",
    "    optimizer.zero_grad()\n",
    "    output = transformer(tgt_data[:, :-1].to(device))\n",
    "    loss = criterion(output.to(device).contiguous().view(-1, VOCAB_SIZE), tgt_data[:, 1:].to(device).contiguous().view(-1))\n",
    "    if torch.isnan(loss):\n",
    "        print(\"NaN loss detected!\")\n",
    "        print(f\"Output stats: min={output.min()}, max={output.max()}, mean={output.mean()}\")\n",
    "        print(f\"Grad norm: {sum(p.grad.norm().item() for p in transformer.parameters() if p.grad is not None):.2f}\")\n",
    "        break\n",
    "    loss.backward()\n",
    "    optimizer.step()\n",
    "    total_loss += loss.item()\n",
    "  print(f\"Epoch {epoch+1}/{NUM_OF_EPOCHS}, Loss: {total_loss/2500}\")\n",
    "  torch.save(transformer.state_dict(), f\"./transformer_epoch_{epoch+1}.pt\")"
   ]
  },
  {
   "cell_type": "code",
   "execution_count": 16,
   "id": "906a4ff0",
   "metadata": {
    "execution": {
     "iopub.execute_input": "2025-10-17T09:05:58.001228Z",
     "iopub.status.busy": "2025-10-17T09:05:58.000492Z",
     "iopub.status.idle": "2025-10-17T09:06:05.665121Z",
     "shell.execute_reply": "2025-10-17T09:06:05.664291Z"
    },
    "papermill": {
     "duration": 8.267845,
     "end_time": "2025-10-17T09:06:05.666427",
     "exception": false,
     "start_time": "2025-10-17T09:05:57.398582",
     "status": "completed"
    },
    "tags": []
   },
   "outputs": [
    {
     "name": "stderr",
     "output_type": "stream",
     "text": [
      "Evaluating: 100%|██████████| 2500/2500 [00:07<00:00, 326.98batch/s]"
     ]
    },
    {
     "name": "stdout",
     "output_type": "stream",
     "text": [
      "\n",
      "Final evaluation:\n",
      "  Average loss: 4.6469\n",
      "  Perplexity: 104.26\n"
     ]
    },
    {
     "name": "stderr",
     "output_type": "stream",
     "text": [
      "\n"
     ]
    }
   ],
   "source": [
    "import math\n",
    "from torch.nn import functional as F\n",
    "\n",
    "# --- Evaluation function ---\n",
    "def evaluate_perplexity(model, dataloader, device, pad_id=3):\n",
    "    model.eval()\n",
    "    total_loss, total_tokens = 0, 0\n",
    "\n",
    "    with torch.no_grad():\n",
    "        for batch in tqdm.tqdm(dataloader, desc=\"Evaluating\", unit=\"batch\"):\n",
    "            batch = batch.to(device)\n",
    "            logits = model(batch[:, :-1])\n",
    "            loss = F.cross_entropy(\n",
    "                logits.reshape(-1, logits.size(-1)),\n",
    "                batch[:, 1:].reshape(-1),\n",
    "                ignore_index=pad_id,\n",
    "                reduction='sum'  # để cộng dồn loss chính xác theo token\n",
    "            )\n",
    "            total_loss += loss.item()\n",
    "            total_tokens += (batch[:, 1:] != pad_id).sum().item()\n",
    "\n",
    "    avg_loss = total_loss / total_tokens\n",
    "    ppl = math.exp(avg_loss)\n",
    "    return avg_loss, ppl\n",
    "\n",
    "# Load checkpoint tốt nhất hoặc epoch cuối\n",
    "transformer.load_state_dict(torch.load(\"./transformer_epoch_100.pt\", map_location=device))\n",
    "transformer.to(device)\n",
    "\n",
    "# Evaluate perplexity\n",
    "avg_loss, ppl = evaluate_perplexity(transformer, dl, device, pad_id=3)\n",
    "print(f\"\\nFinal evaluation:\")\n",
    "print(f\"  Average loss: {avg_loss:.4f}\")\n",
    "print(f\"  Perplexity: {ppl:.2f}\")\n",
    "\n",
    "# Perplexity (PP) = exp(loss).\n",
    "#→ Tức là mỗi bước dự đoán, model “phân vân” giữa ~104 từ khả dĩ, khá yếu nhưng ổn với dữ liệu nhỏ."
   ]
  },
  {
   "cell_type": "code",
   "execution_count": 17,
   "id": "919dc2b1",
   "metadata": {
    "execution": {
     "iopub.execute_input": "2025-10-17T09:06:06.996967Z",
     "iopub.status.busy": "2025-10-17T09:06:06.996377Z",
     "iopub.status.idle": "2025-10-17T09:06:07.292931Z",
     "shell.execute_reply": "2025-10-17T09:06:07.291935Z"
    },
    "papermill": {
     "duration": 0.946295,
     "end_time": "2025-10-17T09:06:07.294274",
     "exception": false,
     "start_time": "2025-10-17T09:06:06.347979",
     "status": "completed"
    },
    "tags": []
   },
   "outputs": [
    {
     "name": "stdout",
     "output_type": "stream",
     "text": [
      "🟢 Device = cuda:0\n",
      "Resuming training from epoch 101\n",
      "\n",
      "=== GENERATION START ===\n",
      "Prompt: Once upon a time\n",
      "\n",
      "[01] Once upon a time,\n",
      "[02] Once upon a time,l\n",
      "[03] Once upon a time,l mercy\n",
      "[04] Once upon a time,l mercy,\n",
      "[05] Once upon a time,l mercy, so\n",
      "[06] Once upon a time,l mercy, soath\n",
      "[07] Once upon a time,l mercy, soath,\n",
      "[08] Once upon a time,l mercy, soath, but\n",
      "[09] Once upon a time,l mercy, soath, but so\n",
      "[10] Once upon a time,l mercy, soath, but so could\n",
      "[11] Once upon a time,l mercy, soath, but so could therefore\n",
      "[12] Once upon a time,l mercy, soath, but so could therefore!\n",
      "[13] Once upon a time,l mercy, soath, but so could therefore! Senator\n",
      "[14] Once upon a time,l mercy, soath, but so could therefore! Senator.\n",
      "Encountered <eos> token — stopping.\n",
      "\n",
      "=== FINAL OUTPUT ===\n",
      "Once upon a time,l mercy, soath, but so could therefore! Senator.\n",
      "====================\n",
      "\n"
     ]
    }
   ],
   "source": [
    "import torch\n",
    "import torch.nn as nn\n",
    "import sentencepiece as spm\n",
    "\n",
    "\n",
    "device = getDevice()\n",
    "print(f\"🟢 Device = {device}\")\n",
    "\n",
    "def generate(prompt_text, max_new_tokens=50, temperature=1.0):\n",
    "    # Load tokenizer\n",
    "    sp = spm.SentencePieceProcessor(model_file='tinyshakespeare.model')\n",
    "\n",
    "    # Encode input\n",
    "    input_ids = torch.tensor(sp.encode_as_ids(prompt_text, add_bos=True)).long().unsqueeze(0).to(device)\n",
    "\n",
    "    # Load model\n",
    "    transformer = Transformer(\n",
    "        VOCAB_SIZE,\n",
    "        DIMENSIONS,\n",
    "        NUM_HEADS,\n",
    "        NUM_LAYERS,\n",
    "        D_FF,\n",
    "        MAX_SEQ_LENGTH,\n",
    "        DROPOUT\n",
    "    ).to(device)\n",
    "\n",
    "    transformer.eval()\n",
    "    load_latest_checkpoint(transformer)\n",
    "\n",
    "    print(f\"\\n=== GENERATION START ===\\nPrompt: {prompt_text}\\n\")\n",
    "\n",
    "    # Generate step-by-step\n",
    "    for step in range(max_new_tokens):\n",
    "        with torch.no_grad():\n",
    "            logits = transformer(input_ids)\n",
    "            logits = logits[:, -1, :] / temperature\n",
    "\n",
    "            # Kiểm tra NaN/Inf\n",
    "            if torch.any(torch.isnan(logits)) or torch.any(torch.isinf(logits)):\n",
    "                print(\"NaN/Inf detected — dùng greedy decoding.\")\n",
    "                next_token = torch.argmax(logits, dim=-1, keepdim=True)\n",
    "            else:\n",
    "                probs = torch.softmax(logits, dim=-1)\n",
    "                next_token = torch.multinomial(probs, num_samples=1)\n",
    "\n",
    "            token_id = next_token.item()\n",
    "\n",
    "            # Nếu gặp token <eos>\n",
    "            if token_id == 2:\n",
    "                print(\"Encountered <eos> token — stopping.\")\n",
    "                break\n",
    "\n",
    "            # Ghép token mới vào chuỗi\n",
    "            input_ids = torch.cat([input_ids, next_token], dim=1)\n",
    "\n",
    "            # In tạm thời đoạn text hiện tại\n",
    "            partial_text = sp.decode(input_ids.squeeze(0).tolist())\n",
    "            print(f\"[{step+1:02d}] {partial_text}\")\n",
    "\n",
    "    # Decode toàn bộ output\n",
    "    final_output = sp.decode(input_ids.squeeze(0).tolist())\n",
    "    print(\"\\n=== FINAL OUTPUT ===\")\n",
    "    print(final_output)\n",
    "    print(\"====================\\n\")\n",
    "\n",
    "    return {\"story\": final_output}\n",
    "\n",
    "\n",
    "# Chạy trực tiếp file\n",
    "if __name__ == \"__main__\":\n",
    "    prompt = \"Once upon a time\"\n",
    "    generate(prompt, max_new_tokens=50)\n",
    "# vì là dư liệu là nhạc kịch nên xu hương genneration cũng theo phong cách đó"
   ]
  }
 ],
 "metadata": {
  "kaggle": {
   "accelerator": "nvidiaTeslaT4",
   "dataSources": [],
   "dockerImageVersionId": 31155,
   "isGpuEnabled": true,
   "isInternetEnabled": true,
   "language": "python",
   "sourceType": "notebook"
  },
  "kernelspec": {
   "display_name": "Python 3",
   "language": "python",
   "name": "python3"
  },
  "language_info": {
   "codemirror_mode": {
    "name": "ipython",
    "version": 3
   },
   "file_extension": ".py",
   "mimetype": "text/x-python",
   "name": "python",
   "nbconvert_exporter": "python",
   "pygments_lexer": "ipython3",
   "version": "3.11.13"
  },
  "papermill": {
   "default_parameters": {},
   "duration": 1536.416368,
   "end_time": "2025-10-17T09:06:09.621652",
   "environment_variables": {},
   "exception": null,
   "input_path": "__notebook__.ipynb",
   "output_path": "__notebook__.ipynb",
   "parameters": {},
   "start_time": "2025-10-17T08:40:33.205284",
   "version": "2.6.0"
  },
  "widgets": {
   "application/vnd.jupyter.widget-state+json": {
    "state": {
     "0402a0f067064580b79dc656c07ebc4f": {
      "model_module": "@jupyter-widgets/base",
      "model_module_version": "2.0.0",
      "model_name": "LayoutModel",
      "state": {
       "_model_module": "@jupyter-widgets/base",
       "_model_module_version": "2.0.0",
       "_model_name": "LayoutModel",
       "_view_count": null,
       "_view_module": "@jupyter-widgets/base",
       "_view_module_version": "2.0.0",
       "_view_name": "LayoutView",
       "align_content": null,
       "align_items": null,
       "align_self": null,
       "border_bottom": null,
       "border_left": null,
       "border_right": null,
       "border_top": null,
       "bottom": null,
       "display": null,
       "flex": null,
       "flex_flow": null,
       "grid_area": null,
       "grid_auto_columns": null,
       "grid_auto_flow": null,
       "grid_auto_rows": null,
       "grid_column": null,
       "grid_gap": null,
       "grid_row": null,
       "grid_template_areas": null,
       "grid_template_columns": null,
       "grid_template_rows": null,
       "height": null,
       "justify_content": null,
       "justify_items": null,
       "left": null,
       "margin": null,
       "max_height": null,
       "max_width": null,
       "min_height": null,
       "min_width": null,
       "object_fit": null,
       "object_position": null,
       "order": null,
       "overflow": null,
       "padding": null,
       "right": null,
       "top": null,
       "visibility": null,
       "width": null
      }
     },
     "0bb75194c2ec456fb3fbf6c49052c6ba": {
      "model_module": "@jupyter-widgets/controls",
      "model_module_version": "2.0.0",
      "model_name": "HTMLStyleModel",
      "state": {
       "_model_module": "@jupyter-widgets/controls",
       "_model_module_version": "2.0.0",
       "_model_name": "HTMLStyleModel",
       "_view_count": null,
       "_view_module": "@jupyter-widgets/base",
       "_view_module_version": "2.0.0",
       "_view_name": "StyleView",
       "background": null,
       "description_width": "",
       "font_size": null,
       "text_color": null
      }
     },
     "1624a4d4c0a140e7b86dcd1a2441d36e": {
      "model_module": "@jupyter-widgets/controls",
      "model_module_version": "2.0.0",
      "model_name": "HBoxModel",
      "state": {
       "_dom_classes": [],
       "_model_module": "@jupyter-widgets/controls",
       "_model_module_version": "2.0.0",
       "_model_name": "HBoxModel",
       "_view_count": null,
       "_view_module": "@jupyter-widgets/controls",
       "_view_module_version": "2.0.0",
       "_view_name": "HBoxView",
       "box_style": "",
       "children": [
        "IPY_MODEL_9cdd2654f65949bfa8b1959c0c42a937",
        "IPY_MODEL_50b241f6fc5243ac9516e5bc474b90b1",
        "IPY_MODEL_730d28454ace44488d1f5a236e548d66"
       ],
       "layout": "IPY_MODEL_ab36d1c1f5c6454b93ef4687d1a948e2",
       "tabbable": null,
       "tooltip": null
      }
     },
     "1647427c8f2e4809985d5ac90885f23c": {
      "model_module": "@jupyter-widgets/base",
      "model_module_version": "2.0.0",
      "model_name": "LayoutModel",
      "state": {
       "_model_module": "@jupyter-widgets/base",
       "_model_module_version": "2.0.0",
       "_model_name": "LayoutModel",
       "_view_count": null,
       "_view_module": "@jupyter-widgets/base",
       "_view_module_version": "2.0.0",
       "_view_name": "LayoutView",
       "align_content": null,
       "align_items": null,
       "align_self": null,
       "border_bottom": null,
       "border_left": null,
       "border_right": null,
       "border_top": null,
       "bottom": null,
       "display": null,
       "flex": null,
       "flex_flow": null,
       "grid_area": null,
       "grid_auto_columns": null,
       "grid_auto_flow": null,
       "grid_auto_rows": null,
       "grid_column": null,
       "grid_gap": null,
       "grid_row": null,
       "grid_template_areas": null,
       "grid_template_columns": null,
       "grid_template_rows": null,
       "height": null,
       "justify_content": null,
       "justify_items": null,
       "left": null,
       "margin": null,
       "max_height": null,
       "max_width": null,
       "min_height": null,
       "min_width": null,
       "object_fit": null,
       "object_position": null,
       "order": null,
       "overflow": null,
       "padding": null,
       "right": null,
       "top": null,
       "visibility": null,
       "width": null
      }
     },
     "1a0575d1b358415f99a9138cfb895e28": {
      "model_module": "@jupyter-widgets/controls",
      "model_module_version": "2.0.0",
      "model_name": "HTMLStyleModel",
      "state": {
       "_model_module": "@jupyter-widgets/controls",
       "_model_module_version": "2.0.0",
       "_model_name": "HTMLStyleModel",
       "_view_count": null,
       "_view_module": "@jupyter-widgets/base",
       "_view_module_version": "2.0.0",
       "_view_name": "StyleView",
       "background": null,
       "description_width": "",
       "font_size": null,
       "text_color": null
      }
     },
     "1cf2211c7c01478dadc72abc0166565c": {
      "model_module": "@jupyter-widgets/controls",
      "model_module_version": "2.0.0",
      "model_name": "HTMLStyleModel",
      "state": {
       "_model_module": "@jupyter-widgets/controls",
       "_model_module_version": "2.0.0",
       "_model_name": "HTMLStyleModel",
       "_view_count": null,
       "_view_module": "@jupyter-widgets/base",
       "_view_module_version": "2.0.0",
       "_view_name": "StyleView",
       "background": null,
       "description_width": "",
       "font_size": null,
       "text_color": null
      }
     },
     "23975c9bbe8a480fbb1d45c12c162ef5": {
      "model_module": "@jupyter-widgets/controls",
      "model_module_version": "2.0.0",
      "model_name": "ProgressStyleModel",
      "state": {
       "_model_module": "@jupyter-widgets/controls",
       "_model_module_version": "2.0.0",
       "_model_name": "ProgressStyleModel",
       "_view_count": null,
       "_view_module": "@jupyter-widgets/base",
       "_view_module_version": "2.0.0",
       "_view_name": "StyleView",
       "bar_color": null,
       "description_width": ""
      }
     },
     "2dd42eb8ef834a268ef5ae1a2fbb622c": {
      "model_module": "@jupyter-widgets/controls",
      "model_module_version": "2.0.0",
      "model_name": "HTMLModel",
      "state": {
       "_dom_classes": [],
       "_model_module": "@jupyter-widgets/controls",
       "_model_module_version": "2.0.0",
       "_model_name": "HTMLModel",
       "_view_count": null,
       "_view_module": "@jupyter-widgets/controls",
       "_view_module_version": "2.0.0",
       "_view_name": "HTMLView",
       "description": "",
       "description_allow_html": false,
       "layout": "IPY_MODEL_1647427c8f2e4809985d5ac90885f23c",
       "placeholder": "​",
       "style": "IPY_MODEL_1a0575d1b358415f99a9138cfb895e28",
       "tabbable": null,
       "tooltip": null,
       "value": " 40000/0 [00:00&lt;00:00, 868790.64 examples/s]"
      }
     },
     "3714ae96843443088af0f6cfc9d9cd58": {
      "model_module": "@jupyter-widgets/base",
      "model_module_version": "2.0.0",
      "model_name": "LayoutModel",
      "state": {
       "_model_module": "@jupyter-widgets/base",
       "_model_module_version": "2.0.0",
       "_model_name": "LayoutModel",
       "_view_count": null,
       "_view_module": "@jupyter-widgets/base",
       "_view_module_version": "2.0.0",
       "_view_name": "LayoutView",
       "align_content": null,
       "align_items": null,
       "align_self": null,
       "border_bottom": null,
       "border_left": null,
       "border_right": null,
       "border_top": null,
       "bottom": null,
       "display": null,
       "flex": null,
       "flex_flow": null,
       "grid_area": null,
       "grid_auto_columns": null,
       "grid_auto_flow": null,
       "grid_auto_rows": null,
       "grid_column": null,
       "grid_gap": null,
       "grid_row": null,
       "grid_template_areas": null,
       "grid_template_columns": null,
       "grid_template_rows": null,
       "height": null,
       "justify_content": null,
       "justify_items": null,
       "left": null,
       "margin": null,
       "max_height": null,
       "max_width": null,
       "min_height": null,
       "min_width": null,
       "object_fit": null,
       "object_position": null,
       "order": null,
       "overflow": null,
       "padding": null,
       "right": null,
       "top": null,
       "visibility": null,
       "width": null
      }
     },
     "3824adc21ea043e1bc04d89ad0587a62": {
      "model_module": "@jupyter-widgets/base",
      "model_module_version": "2.0.0",
      "model_name": "LayoutModel",
      "state": {
       "_model_module": "@jupyter-widgets/base",
       "_model_module_version": "2.0.0",
       "_model_name": "LayoutModel",
       "_view_count": null,
       "_view_module": "@jupyter-widgets/base",
       "_view_module_version": "2.0.0",
       "_view_name": "LayoutView",
       "align_content": null,
       "align_items": null,
       "align_self": null,
       "border_bottom": null,
       "border_left": null,
       "border_right": null,
       "border_top": null,
       "bottom": null,
       "display": null,
       "flex": null,
       "flex_flow": null,
       "grid_area": null,
       "grid_auto_columns": null,
       "grid_auto_flow": null,
       "grid_auto_rows": null,
       "grid_column": null,
       "grid_gap": null,
       "grid_row": null,
       "grid_template_areas": null,
       "grid_template_columns": null,
       "grid_template_rows": null,
       "height": null,
       "justify_content": null,
       "justify_items": null,
       "left": null,
       "margin": null,
       "max_height": null,
       "max_width": null,
       "min_height": null,
       "min_width": null,
       "object_fit": null,
       "object_position": null,
       "order": null,
       "overflow": null,
       "padding": null,
       "right": null,
       "top": null,
       "visibility": null,
       "width": null
      }
     },
     "50b241f6fc5243ac9516e5bc474b90b1": {
      "model_module": "@jupyter-widgets/controls",
      "model_module_version": "2.0.0",
      "model_name": "FloatProgressModel",
      "state": {
       "_dom_classes": [],
       "_model_module": "@jupyter-widgets/controls",
       "_model_module_version": "2.0.0",
       "_model_name": "FloatProgressModel",
       "_view_count": null,
       "_view_module": "@jupyter-widgets/controls",
       "_view_module_version": "2.0.0",
       "_view_name": "ProgressView",
       "bar_style": "success",
       "description": "",
       "description_allow_html": false,
       "layout": "IPY_MODEL_7e37bdaf6a3e4eb88a4103e17471af11",
       "max": 1.0,
       "min": 0.0,
       "orientation": "horizontal",
       "style": "IPY_MODEL_23975c9bbe8a480fbb1d45c12c162ef5",
       "tabbable": null,
       "tooltip": null,
       "value": 1.0
      }
     },
     "5b838031a94b470fb6ed6113cb6791c4": {
      "model_module": "@jupyter-widgets/controls",
      "model_module_version": "2.0.0",
      "model_name": "ProgressStyleModel",
      "state": {
       "_model_module": "@jupyter-widgets/controls",
       "_model_module_version": "2.0.0",
       "_model_name": "ProgressStyleModel",
       "_view_count": null,
       "_view_module": "@jupyter-widgets/base",
       "_view_module_version": "2.0.0",
       "_view_name": "StyleView",
       "bar_color": null,
       "description_width": ""
      }
     },
     "730d28454ace44488d1f5a236e548d66": {
      "model_module": "@jupyter-widgets/controls",
      "model_module_version": "2.0.0",
      "model_name": "HTMLModel",
      "state": {
       "_dom_classes": [],
       "_model_module": "@jupyter-widgets/controls",
       "_model_module_version": "2.0.0",
       "_model_name": "HTMLModel",
       "_view_count": null,
       "_view_module": "@jupyter-widgets/controls",
       "_view_module_version": "2.0.0",
       "_view_name": "HTMLView",
       "description": "",
       "description_allow_html": false,
       "layout": "IPY_MODEL_f7444309710643759de0f046830a1cfb",
       "placeholder": "​",
       "style": "IPY_MODEL_f9aaa96dfd334374add65d46d8ca2bc7",
       "tabbable": null,
       "tooltip": null,
       "value": " 1/1 [00:00&lt;00:00, 209.20it/s]"
      }
     },
     "78faff0394b1425893e4d1eda6ab0259": {
      "model_module": "@jupyter-widgets/controls",
      "model_module_version": "2.0.0",
      "model_name": "HTMLModel",
      "state": {
       "_dom_classes": [],
       "_model_module": "@jupyter-widgets/controls",
       "_model_module_version": "2.0.0",
       "_model_name": "HTMLModel",
       "_view_count": null,
       "_view_module": "@jupyter-widgets/controls",
       "_view_module_version": "2.0.0",
       "_view_name": "HTMLView",
       "description": "",
       "description_allow_html": false,
       "layout": "IPY_MODEL_fb9fd5b735264cd485ebb2cdfe104140",
       "placeholder": "​",
       "style": "IPY_MODEL_d6df733312864bfcbab8c167edc6ff6e",
       "tabbable": null,
       "tooltip": null,
       "value": "Generating train split: "
      }
     },
     "7e37bdaf6a3e4eb88a4103e17471af11": {
      "model_module": "@jupyter-widgets/base",
      "model_module_version": "2.0.0",
      "model_name": "LayoutModel",
      "state": {
       "_model_module": "@jupyter-widgets/base",
       "_model_module_version": "2.0.0",
       "_model_name": "LayoutModel",
       "_view_count": null,
       "_view_module": "@jupyter-widgets/base",
       "_view_module_version": "2.0.0",
       "_view_name": "LayoutView",
       "align_content": null,
       "align_items": null,
       "align_self": null,
       "border_bottom": null,
       "border_left": null,
       "border_right": null,
       "border_top": null,
       "bottom": null,
       "display": null,
       "flex": null,
       "flex_flow": null,
       "grid_area": null,
       "grid_auto_columns": null,
       "grid_auto_flow": null,
       "grid_auto_rows": null,
       "grid_column": null,
       "grid_gap": null,
       "grid_row": null,
       "grid_template_areas": null,
       "grid_template_columns": null,
       "grid_template_rows": null,
       "height": null,
       "justify_content": null,
       "justify_items": null,
       "left": null,
       "margin": null,
       "max_height": null,
       "max_width": null,
       "min_height": null,
       "min_width": null,
       "object_fit": null,
       "object_position": null,
       "order": null,
       "overflow": null,
       "padding": null,
       "right": null,
       "top": null,
       "visibility": null,
       "width": null
      }
     },
     "80f38da5686d4cff936f4746258afd6e": {
      "model_module": "@jupyter-widgets/controls",
      "model_module_version": "2.0.0",
      "model_name": "HBoxModel",
      "state": {
       "_dom_classes": [],
       "_model_module": "@jupyter-widgets/controls",
       "_model_module_version": "2.0.0",
       "_model_name": "HBoxModel",
       "_view_count": null,
       "_view_module": "@jupyter-widgets/controls",
       "_view_module_version": "2.0.0",
       "_view_name": "HBoxView",
       "box_style": "",
       "children": [
        "IPY_MODEL_78faff0394b1425893e4d1eda6ab0259",
        "IPY_MODEL_9a0876023dae4e6685725e3f2c6ce4a1",
        "IPY_MODEL_2dd42eb8ef834a268ef5ae1a2fbb622c"
       ],
       "layout": "IPY_MODEL_87cfac67d8f747dd816905c0f178861e",
       "tabbable": null,
       "tooltip": null
      }
     },
     "87cfac67d8f747dd816905c0f178861e": {
      "model_module": "@jupyter-widgets/base",
      "model_module_version": "2.0.0",
      "model_name": "LayoutModel",
      "state": {
       "_model_module": "@jupyter-widgets/base",
       "_model_module_version": "2.0.0",
       "_model_name": "LayoutModel",
       "_view_count": null,
       "_view_module": "@jupyter-widgets/base",
       "_view_module_version": "2.0.0",
       "_view_name": "LayoutView",
       "align_content": null,
       "align_items": null,
       "align_self": null,
       "border_bottom": null,
       "border_left": null,
       "border_right": null,
       "border_top": null,
       "bottom": null,
       "display": null,
       "flex": null,
       "flex_flow": null,
       "grid_area": null,
       "grid_auto_columns": null,
       "grid_auto_flow": null,
       "grid_auto_rows": null,
       "grid_column": null,
       "grid_gap": null,
       "grid_row": null,
       "grid_template_areas": null,
       "grid_template_columns": null,
       "grid_template_rows": null,
       "height": null,
       "justify_content": null,
       "justify_items": null,
       "left": null,
       "margin": null,
       "max_height": null,
       "max_width": null,
       "min_height": null,
       "min_width": null,
       "object_fit": null,
       "object_position": null,
       "order": null,
       "overflow": null,
       "padding": null,
       "right": null,
       "top": null,
       "visibility": null,
       "width": null
      }
     },
     "9a0876023dae4e6685725e3f2c6ce4a1": {
      "model_module": "@jupyter-widgets/controls",
      "model_module_version": "2.0.0",
      "model_name": "FloatProgressModel",
      "state": {
       "_dom_classes": [],
       "_model_module": "@jupyter-widgets/controls",
       "_model_module_version": "2.0.0",
       "_model_name": "FloatProgressModel",
       "_view_count": null,
       "_view_module": "@jupyter-widgets/controls",
       "_view_module_version": "2.0.0",
       "_view_name": "ProgressView",
       "bar_style": "success",
       "description": "",
       "description_allow_html": false,
       "layout": "IPY_MODEL_fc7ced971ca94b64b64c778243a1fb52",
       "max": 1.0,
       "min": 0.0,
       "orientation": "horizontal",
       "style": "IPY_MODEL_5b838031a94b470fb6ed6113cb6791c4",
       "tabbable": null,
       "tooltip": null,
       "value": 1.0
      }
     },
     "9cdd2654f65949bfa8b1959c0c42a937": {
      "model_module": "@jupyter-widgets/controls",
      "model_module_version": "2.0.0",
      "model_name": "HTMLModel",
      "state": {
       "_dom_classes": [],
       "_model_module": "@jupyter-widgets/controls",
       "_model_module_version": "2.0.0",
       "_model_name": "HTMLModel",
       "_view_count": null,
       "_view_module": "@jupyter-widgets/controls",
       "_view_module_version": "2.0.0",
       "_view_name": "HTMLView",
       "description": "",
       "description_allow_html": false,
       "layout": "IPY_MODEL_3714ae96843443088af0f6cfc9d9cd58",
       "placeholder": "​",
       "style": "IPY_MODEL_c3621d0ae0304f7797df4a106efb934b",
       "tabbable": null,
       "tooltip": null,
       "value": "Computing checksums: 100%"
      }
     },
     "ab36d1c1f5c6454b93ef4687d1a948e2": {
      "model_module": "@jupyter-widgets/base",
      "model_module_version": "2.0.0",
      "model_name": "LayoutModel",
      "state": {
       "_model_module": "@jupyter-widgets/base",
       "_model_module_version": "2.0.0",
       "_model_name": "LayoutModel",
       "_view_count": null,
       "_view_module": "@jupyter-widgets/base",
       "_view_module_version": "2.0.0",
       "_view_name": "LayoutView",
       "align_content": null,
       "align_items": null,
       "align_self": null,
       "border_bottom": null,
       "border_left": null,
       "border_right": null,
       "border_top": null,
       "bottom": null,
       "display": null,
       "flex": null,
       "flex_flow": null,
       "grid_area": null,
       "grid_auto_columns": null,
       "grid_auto_flow": null,
       "grid_auto_rows": null,
       "grid_column": null,
       "grid_gap": null,
       "grid_row": null,
       "grid_template_areas": null,
       "grid_template_columns": null,
       "grid_template_rows": null,
       "height": null,
       "justify_content": null,
       "justify_items": null,
       "left": null,
       "margin": null,
       "max_height": null,
       "max_width": null,
       "min_height": null,
       "min_width": null,
       "object_fit": null,
       "object_position": null,
       "order": null,
       "overflow": null,
       "padding": null,
       "right": null,
       "top": null,
       "visibility": null,
       "width": null
      }
     },
     "ac2bb352eef04fb192d2902e65e5463c": {
      "model_module": "@jupyter-widgets/controls",
      "model_module_version": "2.0.0",
      "model_name": "HTMLModel",
      "state": {
       "_dom_classes": [],
       "_model_module": "@jupyter-widgets/controls",
       "_model_module_version": "2.0.0",
       "_model_name": "HTMLModel",
       "_view_count": null,
       "_view_module": "@jupyter-widgets/controls",
       "_view_module_version": "2.0.0",
       "_view_name": "HTMLView",
       "description": "",
       "description_allow_html": false,
       "layout": "IPY_MODEL_d6c4039d3b564182bd21128c87276887",
       "placeholder": "​",
       "style": "IPY_MODEL_1cf2211c7c01478dadc72abc0166565c",
       "tabbable": null,
       "tooltip": null,
       "value": " 1.12M/1.12M [00:00&lt;00:00, 18.0MB/s]"
      }
     },
     "ae73b2be1fc04cdca9f4cb62c3d5e4e1": {
      "model_module": "@jupyter-widgets/controls",
      "model_module_version": "2.0.0",
      "model_name": "FloatProgressModel",
      "state": {
       "_dom_classes": [],
       "_model_module": "@jupyter-widgets/controls",
       "_model_module_version": "2.0.0",
       "_model_name": "FloatProgressModel",
       "_view_count": null,
       "_view_module": "@jupyter-widgets/controls",
       "_view_module_version": "2.0.0",
       "_view_name": "ProgressView",
       "bar_style": "success",
       "description": "",
       "description_allow_html": false,
       "layout": "IPY_MODEL_3824adc21ea043e1bc04d89ad0587a62",
       "max": 1115394.0,
       "min": 0.0,
       "orientation": "horizontal",
       "style": "IPY_MODEL_cf6a2dd82fa3444da74b22b21869f843",
       "tabbable": null,
       "tooltip": null,
       "value": 1115394.0
      }
     },
     "c3621d0ae0304f7797df4a106efb934b": {
      "model_module": "@jupyter-widgets/controls",
      "model_module_version": "2.0.0",
      "model_name": "HTMLStyleModel",
      "state": {
       "_model_module": "@jupyter-widgets/controls",
       "_model_module_version": "2.0.0",
       "_model_name": "HTMLStyleModel",
       "_view_count": null,
       "_view_module": "@jupyter-widgets/base",
       "_view_module_version": "2.0.0",
       "_view_name": "StyleView",
       "background": null,
       "description_width": "",
       "font_size": null,
       "text_color": null
      }
     },
     "ca6a068ae2144ffba66c61b378c512fc": {
      "model_module": "@jupyter-widgets/base",
      "model_module_version": "2.0.0",
      "model_name": "LayoutModel",
      "state": {
       "_model_module": "@jupyter-widgets/base",
       "_model_module_version": "2.0.0",
       "_model_name": "LayoutModel",
       "_view_count": null,
       "_view_module": "@jupyter-widgets/base",
       "_view_module_version": "2.0.0",
       "_view_name": "LayoutView",
       "align_content": null,
       "align_items": null,
       "align_self": null,
       "border_bottom": null,
       "border_left": null,
       "border_right": null,
       "border_top": null,
       "bottom": null,
       "display": null,
       "flex": null,
       "flex_flow": null,
       "grid_area": null,
       "grid_auto_columns": null,
       "grid_auto_flow": null,
       "grid_auto_rows": null,
       "grid_column": null,
       "grid_gap": null,
       "grid_row": null,
       "grid_template_areas": null,
       "grid_template_columns": null,
       "grid_template_rows": null,
       "height": null,
       "justify_content": null,
       "justify_items": null,
       "left": null,
       "margin": null,
       "max_height": null,
       "max_width": null,
       "min_height": null,
       "min_width": null,
       "object_fit": null,
       "object_position": null,
       "order": null,
       "overflow": null,
       "padding": null,
       "right": null,
       "top": null,
       "visibility": null,
       "width": null
      }
     },
     "cf6a2dd82fa3444da74b22b21869f843": {
      "model_module": "@jupyter-widgets/controls",
      "model_module_version": "2.0.0",
      "model_name": "ProgressStyleModel",
      "state": {
       "_model_module": "@jupyter-widgets/controls",
       "_model_module_version": "2.0.0",
       "_model_name": "ProgressStyleModel",
       "_view_count": null,
       "_view_module": "@jupyter-widgets/base",
       "_view_module_version": "2.0.0",
       "_view_name": "StyleView",
       "bar_color": null,
       "description_width": ""
      }
     },
     "d6c4039d3b564182bd21128c87276887": {
      "model_module": "@jupyter-widgets/base",
      "model_module_version": "2.0.0",
      "model_name": "LayoutModel",
      "state": {
       "_model_module": "@jupyter-widgets/base",
       "_model_module_version": "2.0.0",
       "_model_name": "LayoutModel",
       "_view_count": null,
       "_view_module": "@jupyter-widgets/base",
       "_view_module_version": "2.0.0",
       "_view_name": "LayoutView",
       "align_content": null,
       "align_items": null,
       "align_self": null,
       "border_bottom": null,
       "border_left": null,
       "border_right": null,
       "border_top": null,
       "bottom": null,
       "display": null,
       "flex": null,
       "flex_flow": null,
       "grid_area": null,
       "grid_auto_columns": null,
       "grid_auto_flow": null,
       "grid_auto_rows": null,
       "grid_column": null,
       "grid_gap": null,
       "grid_row": null,
       "grid_template_areas": null,
       "grid_template_columns": null,
       "grid_template_rows": null,
       "height": null,
       "justify_content": null,
       "justify_items": null,
       "left": null,
       "margin": null,
       "max_height": null,
       "max_width": null,
       "min_height": null,
       "min_width": null,
       "object_fit": null,
       "object_position": null,
       "order": null,
       "overflow": null,
       "padding": null,
       "right": null,
       "top": null,
       "visibility": null,
       "width": null
      }
     },
     "d6df733312864bfcbab8c167edc6ff6e": {
      "model_module": "@jupyter-widgets/controls",
      "model_module_version": "2.0.0",
      "model_name": "HTMLStyleModel",
      "state": {
       "_model_module": "@jupyter-widgets/controls",
       "_model_module_version": "2.0.0",
       "_model_name": "HTMLStyleModel",
       "_view_count": null,
       "_view_module": "@jupyter-widgets/base",
       "_view_module_version": "2.0.0",
       "_view_name": "StyleView",
       "background": null,
       "description_width": "",
       "font_size": null,
       "text_color": null
      }
     },
     "de35d3e7c6bd4b8dbaefe112ae88897a": {
      "model_module": "@jupyter-widgets/controls",
      "model_module_version": "2.0.0",
      "model_name": "HBoxModel",
      "state": {
       "_dom_classes": [],
       "_model_module": "@jupyter-widgets/controls",
       "_model_module_version": "2.0.0",
       "_model_name": "HBoxModel",
       "_view_count": null,
       "_view_module": "@jupyter-widgets/controls",
       "_view_module_version": "2.0.0",
       "_view_name": "HBoxView",
       "box_style": "",
       "children": [
        "IPY_MODEL_f2370ac08276460cb622c7f25401d31c",
        "IPY_MODEL_ae73b2be1fc04cdca9f4cb62c3d5e4e1",
        "IPY_MODEL_ac2bb352eef04fb192d2902e65e5463c"
       ],
       "layout": "IPY_MODEL_ca6a068ae2144ffba66c61b378c512fc",
       "tabbable": null,
       "tooltip": null
      }
     },
     "f2370ac08276460cb622c7f25401d31c": {
      "model_module": "@jupyter-widgets/controls",
      "model_module_version": "2.0.0",
      "model_name": "HTMLModel",
      "state": {
       "_dom_classes": [],
       "_model_module": "@jupyter-widgets/controls",
       "_model_module_version": "2.0.0",
       "_model_name": "HTMLModel",
       "_view_count": null,
       "_view_module": "@jupyter-widgets/controls",
       "_view_module_version": "2.0.0",
       "_view_name": "HTMLView",
       "description": "",
       "description_allow_html": false,
       "layout": "IPY_MODEL_0402a0f067064580b79dc656c07ebc4f",
       "placeholder": "​",
       "style": "IPY_MODEL_0bb75194c2ec456fb3fbf6c49052c6ba",
       "tabbable": null,
       "tooltip": null,
       "value": "Downloading data: 100%"
      }
     },
     "f7444309710643759de0f046830a1cfb": {
      "model_module": "@jupyter-widgets/base",
      "model_module_version": "2.0.0",
      "model_name": "LayoutModel",
      "state": {
       "_model_module": "@jupyter-widgets/base",
       "_model_module_version": "2.0.0",
       "_model_name": "LayoutModel",
       "_view_count": null,
       "_view_module": "@jupyter-widgets/base",
       "_view_module_version": "2.0.0",
       "_view_name": "LayoutView",
       "align_content": null,
       "align_items": null,
       "align_self": null,
       "border_bottom": null,
       "border_left": null,
       "border_right": null,
       "border_top": null,
       "bottom": null,
       "display": null,
       "flex": null,
       "flex_flow": null,
       "grid_area": null,
       "grid_auto_columns": null,
       "grid_auto_flow": null,
       "grid_auto_rows": null,
       "grid_column": null,
       "grid_gap": null,
       "grid_row": null,
       "grid_template_areas": null,
       "grid_template_columns": null,
       "grid_template_rows": null,
       "height": null,
       "justify_content": null,
       "justify_items": null,
       "left": null,
       "margin": null,
       "max_height": null,
       "max_width": null,
       "min_height": null,
       "min_width": null,
       "object_fit": null,
       "object_position": null,
       "order": null,
       "overflow": null,
       "padding": null,
       "right": null,
       "top": null,
       "visibility": null,
       "width": null
      }
     },
     "f9aaa96dfd334374add65d46d8ca2bc7": {
      "model_module": "@jupyter-widgets/controls",
      "model_module_version": "2.0.0",
      "model_name": "HTMLStyleModel",
      "state": {
       "_model_module": "@jupyter-widgets/controls",
       "_model_module_version": "2.0.0",
       "_model_name": "HTMLStyleModel",
       "_view_count": null,
       "_view_module": "@jupyter-widgets/base",
       "_view_module_version": "2.0.0",
       "_view_name": "StyleView",
       "background": null,
       "description_width": "",
       "font_size": null,
       "text_color": null
      }
     },
     "fb9fd5b735264cd485ebb2cdfe104140": {
      "model_module": "@jupyter-widgets/base",
      "model_module_version": "2.0.0",
      "model_name": "LayoutModel",
      "state": {
       "_model_module": "@jupyter-widgets/base",
       "_model_module_version": "2.0.0",
       "_model_name": "LayoutModel",
       "_view_count": null,
       "_view_module": "@jupyter-widgets/base",
       "_view_module_version": "2.0.0",
       "_view_name": "LayoutView",
       "align_content": null,
       "align_items": null,
       "align_self": null,
       "border_bottom": null,
       "border_left": null,
       "border_right": null,
       "border_top": null,
       "bottom": null,
       "display": null,
       "flex": null,
       "flex_flow": null,
       "grid_area": null,
       "grid_auto_columns": null,
       "grid_auto_flow": null,
       "grid_auto_rows": null,
       "grid_column": null,
       "grid_gap": null,
       "grid_row": null,
       "grid_template_areas": null,
       "grid_template_columns": null,
       "grid_template_rows": null,
       "height": null,
       "justify_content": null,
       "justify_items": null,
       "left": null,
       "margin": null,
       "max_height": null,
       "max_width": null,
       "min_height": null,
       "min_width": null,
       "object_fit": null,
       "object_position": null,
       "order": null,
       "overflow": null,
       "padding": null,
       "right": null,
       "top": null,
       "visibility": null,
       "width": null
      }
     },
     "fc7ced971ca94b64b64c778243a1fb52": {
      "model_module": "@jupyter-widgets/base",
      "model_module_version": "2.0.0",
      "model_name": "LayoutModel",
      "state": {
       "_model_module": "@jupyter-widgets/base",
       "_model_module_version": "2.0.0",
       "_model_name": "LayoutModel",
       "_view_count": null,
       "_view_module": "@jupyter-widgets/base",
       "_view_module_version": "2.0.0",
       "_view_name": "LayoutView",
       "align_content": null,
       "align_items": null,
       "align_self": null,
       "border_bottom": null,
       "border_left": null,
       "border_right": null,
       "border_top": null,
       "bottom": null,
       "display": null,
       "flex": null,
       "flex_flow": null,
       "grid_area": null,
       "grid_auto_columns": null,
       "grid_auto_flow": null,
       "grid_auto_rows": null,
       "grid_column": null,
       "grid_gap": null,
       "grid_row": null,
       "grid_template_areas": null,
       "grid_template_columns": null,
       "grid_template_rows": null,
       "height": null,
       "justify_content": null,
       "justify_items": null,
       "left": null,
       "margin": null,
       "max_height": null,
       "max_width": null,
       "min_height": null,
       "min_width": null,
       "object_fit": null,
       "object_position": null,
       "order": null,
       "overflow": null,
       "padding": null,
       "right": null,
       "top": null,
       "visibility": null,
       "width": "20px"
      }
     }
    },
    "version_major": 2,
    "version_minor": 0
   }
  }
 },
 "nbformat": 4,
 "nbformat_minor": 5
}
